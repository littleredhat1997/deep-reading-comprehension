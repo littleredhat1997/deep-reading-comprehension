{
 "cells": [
  {
   "cell_type": "markdown",
   "metadata": {},
   "source": [
    "## 预测"
   ]
  },
  {
   "cell_type": "code",
   "execution_count": 1,
   "metadata": {},
   "outputs": [
    {
     "name": "stderr",
     "output_type": "stream",
     "text": [
      "/home/ubuntu/anaconda3/lib/python3.6/site-packages/h5py/__init__.py:36: FutureWarning: Conversion of the second argument of issubdtype from `float` to `np.floating` is deprecated. In future, it will be treated as `np.float64 == np.dtype(float).type`.\n",
      "  from ._conv import register_converters as _register_converters\n",
      "Using TensorFlow backend.\n"
     ]
    }
   ],
   "source": [
    "import tensorflow as tf\n",
    "from keras import backend as K\n",
    "\n",
    "import os\n",
    "os.environ[\"CUDA_VISIBLE_DEVICES\"] = \"0, 1, 2, 3\" # GPU 列表\n",
    "\n",
    "G = 4 # GPU 数量\n",
    "gpu_options = tf.GPUOptions(per_process_gpu_memory_fraction=0.8)\n",
    "session = tf.Session(config=tf.ConfigProto(gpu_options=gpu_options, allow_soft_placement=True))\n",
    "K.set_session(session)"
   ]
  },
  {
   "cell_type": "code",
   "execution_count": 2,
   "metadata": {},
   "outputs": [],
   "source": [
    "import numpy as np\n",
    "data_q = np.load('data/data_q.npy')\n",
    "data_a = np.load('data/data_a.npy')\n",
    "data_y = np.load('data/data_y.npy')\n",
    "data_id = np.load('data/data_id.npy')"
   ]
  },
  {
   "cell_type": "code",
   "execution_count": 3,
   "metadata": {},
   "outputs": [],
   "source": [
    "%load_ext autoreload\n",
    "%autoreload 2\n",
    "from models import *\n",
    "from keras.utils import multi_gpu_model"
   ]
  },
  {
   "cell_type": "markdown",
   "metadata": {},
   "source": [
    "### 1. FastText"
   ]
  },
  {
   "cell_type": "code",
   "execution_count": 4,
   "metadata": {},
   "outputs": [
    {
     "name": "stdout",
     "output_type": "stream",
     "text": [
      "448444/448444 [==============================] - 222s 495us/step\n",
      "325401 / 448444 = 0.725622\n"
     ]
    }
   ],
   "source": [
    "# load the best model\n",
    "model_path = '../main/model/FastText.h5'\n",
    "model = FastText()\n",
    "model = multi_gpu_model(model)\n",
    "model.load_weights(model_path)\n",
    "# model.load_weights(model_path, by_name=True)\n",
    "model.compile(loss='binary_crossentropy',\n",
    "                  optimizer='adam',\n",
    "                  metrics=['accuracy'])\n",
    "predicts = model.predict([data_q, data_a], batch_size=64 * G, verbose=1)\n",
    "\n",
    "with open('predict/FastText.txt', 'w') as f:\n",
    "    for i in range(len(data_id)):\n",
    "        f.write('%d,%s\\n' % (data_id[i], predicts[i][0]))\n",
    "\n",
    "num = 0\n",
    "for i in range(len(data_y)):\n",
    "    if data_y[i] == 0 and predicts[i][0] < 0.5: num += 1\n",
    "    if data_y[i] == 1 and predicts[i][0] >= 0.5: num += 1\n",
    "print('%d / %d = %f' % (num, len(data_y), num / len(data_y)))"
   ]
  },
  {
   "cell_type": "markdown",
   "metadata": {},
   "source": [
    "### 2. CNN1"
   ]
  },
  {
   "cell_type": "code",
   "execution_count": 5,
   "metadata": {},
   "outputs": [
    {
     "name": "stdout",
     "output_type": "stream",
     "text": [
      "448444/448444 [==============================] - 337s 752us/step\n",
      "348939 / 448444 = 0.778111\n"
     ]
    }
   ],
   "source": [
    "# load the best model\n",
    "model_path = '../main/model/CNN1.h5'\n",
    "model = CNN1()\n",
    "model = multi_gpu_model(model)\n",
    "model.load_weights(model_path)\n",
    "# model.load_weights(model_path, by_name=True)\n",
    "model.compile(loss='binary_crossentropy',\n",
    "                  optimizer='adam',\n",
    "                  metrics=['accuracy'])\n",
    "predicts = model.predict([data_q, data_a], batch_size=64 * G, verbose=1)\n",
    "\n",
    "with open('predict/CNN1.txt', 'w') as f:\n",
    "    for i in range(len(data_id)):\n",
    "        f.write('%d,%s\\n' % (data_id[i], predicts[i][0]))\n",
    "\n",
    "num = 0\n",
    "for i in range(len(data_y)):\n",
    "    if data_y[i] == 0 and predicts[i][0] < 0.5: num += 1\n",
    "    if data_y[i] == 1 and predicts[i][0] >= 0.5: num += 1\n",
    "print('%d / %d = %f' % (num, len(data_y), num / len(data_y)))"
   ]
  },
  {
   "cell_type": "markdown",
   "metadata": {},
   "source": [
    "### 3. CNN2"
   ]
  },
  {
   "cell_type": "code",
   "execution_count": 6,
   "metadata": {},
   "outputs": [
    {
     "name": "stdout",
     "output_type": "stream",
     "text": [
      "448444/448444 [==============================] - 337s 751us/step\n",
      "328202 / 448444 = 0.731868\n"
     ]
    }
   ],
   "source": [
    "# load the best model\n",
    "model_path = '../main/model/CNN2.h5'\n",
    "model = CNN2()\n",
    "model = multi_gpu_model(model)\n",
    "model.load_weights(model_path)\n",
    "# model.load_weights(model_path, by_name=True)\n",
    "model.compile(loss='binary_crossentropy',\n",
    "                  optimizer='adam',\n",
    "                  metrics=['accuracy'])\n",
    "predicts = model.predict([data_q, data_a], batch_size=64 * G, verbose=1)\n",
    "\n",
    "with open('predict/CNN2.txt', 'w') as f:\n",
    "    for i in range(len(data_id)):\n",
    "        f.write('%d,%s\\n' % (data_id[i], predicts[i][0]))\n",
    "\n",
    "num = 0\n",
    "for i in range(len(data_y)):\n",
    "    if data_y[i] == 0 and predicts[i][0] < 0.5: num += 1\n",
    "    if data_y[i] == 1 and predicts[i][0] >= 0.5: num += 1\n",
    "print('%d / %d = %f' % (num, len(data_y), num / len(data_y)))"
   ]
  },
  {
   "cell_type": "markdown",
   "metadata": {},
   "source": [
    "### 4. BiLSTM"
   ]
  },
  {
   "cell_type": "code",
   "execution_count": 7,
   "metadata": {},
   "outputs": [
    {
     "name": "stdout",
     "output_type": "stream",
     "text": [
      "448444/448444 [==============================] - 910s 2ms/step\n",
      "327825 / 448444 = 0.731028\n"
     ]
    }
   ],
   "source": [
    "# load the best model\n",
    "model_path = '../main/model/BiLSTM.h5'\n",
    "model = BiLSTM()\n",
    "model = multi_gpu_model(model)\n",
    "model.load_weights(model_path)\n",
    "# model.load_weights(model_path, by_name=True)\n",
    "model.compile(loss='binary_crossentropy',\n",
    "                  optimizer='adam',\n",
    "                  metrics=['accuracy'])\n",
    "predicts = model.predict([data_q, data_a], batch_size=64 * G, verbose=1)\n",
    "\n",
    "with open('predict/BiLSTM.txt', 'w') as f:\n",
    "    for i in range(len(data_id)):\n",
    "        f.write('%d,%s\\n' % (data_id[i], predicts[i][0]))\n",
    "\n",
    "num = 0\n",
    "for i in range(len(data_y)):\n",
    "    if data_y[i] == 0 and predicts[i][0] < 0.5: num += 1\n",
    "    if data_y[i] == 1 and predicts[i][0] >= 0.5: num += 1\n",
    "print('%d / %d = %f' % (num, len(data_y), num / len(data_y)))"
   ]
  },
  {
   "cell_type": "markdown",
   "metadata": {},
   "source": [
    "### 5. Attention"
   ]
  },
  {
   "cell_type": "code",
   "execution_count": 8,
   "metadata": {},
   "outputs": [
    {
     "name": "stdout",
     "output_type": "stream",
     "text": [
      "448444/448444 [==============================] - 970s 2ms/step\n",
      "331012 / 448444 = 0.738135\n"
     ]
    }
   ],
   "source": [
    "# load the best model\n",
    "model_path = '../main/model/Attention.h5'\n",
    "model = Attention()\n",
    "model = multi_gpu_model(model)\n",
    "model.load_weights(model_path)\n",
    "# model.load_weights(model_path, by_name=True)\n",
    "model.compile(loss='binary_crossentropy',\n",
    "                  optimizer='adam',\n",
    "                  metrics=['accuracy'])\n",
    "predicts = model.predict([data_q, data_a], batch_size=64 * G, verbose=1)\n",
    "\n",
    "with open('predict/Attention.txt', 'w') as f:\n",
    "    for i in range(len(data_id)):\n",
    "        f.write('%d,%s\\n' % (data_id[i], predicts[i][0]))\n",
    "\n",
    "num = 0\n",
    "for i in range(len(data_y)):\n",
    "    if data_y[i] == 0 and predicts[i][0] < 0.5: num += 1\n",
    "    if data_y[i] == 1 and predicts[i][0] >= 0.5: num += 1\n",
    "print('%d / %d = %f' % (num, len(data_y), num / len(data_y)))"
   ]
  }
 ],
 "metadata": {
  "kernelspec": {
   "display_name": "Python 3",
   "language": "python",
   "name": "python3"
  },
  "language_info": {
   "codemirror_mode": {
    "name": "ipython",
    "version": 3
   },
   "file_extension": ".py",
   "mimetype": "text/x-python",
   "name": "python",
   "nbconvert_exporter": "python",
   "pygments_lexer": "ipython3",
   "version": "3.6.4"
  }
 },
 "nbformat": 4,
 "nbformat_minor": 2
}
