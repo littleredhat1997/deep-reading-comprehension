{
 "cells": [
  {
   "cell_type": "code",
   "execution_count": 16,
   "metadata": {},
   "outputs": [],
   "source": [
    "y_true = []\n",
    "with open('submit_sample.txt', 'r') as f:\n",
    "    for line in f.readlines():\n",
    "        pro = line.strip().split(',')\n",
    "        y_true.append(int(pro[1]))"
   ]
  },
  {
   "cell_type": "code",
   "execution_count": 17,
   "metadata": {},
   "outputs": [
    {
     "name": "stdout",
     "output_type": "stream",
     "text": [
      "1586 [0, 0, 0, 0, 1, 0, 0, 0, 0, 0]\n"
     ]
    }
   ],
   "source": [
    "print(len(y_true), y_true[0:10])"
   ]
  },
  {
   "cell_type": "code",
   "execution_count": 21,
   "metadata": {},
   "outputs": [],
   "source": [
    "scoreFile1 = 'predict/predict-lstm-1.txt'\n",
    "scoreFile2 = 'predict/predict-blstm-1.txt'\n",
    "scoreFile3 = 'predict/predict-blstm-word2vec-1.txt'\n",
    "scoreFile4 = 'predict/predict-blstm-word2vec-attention-1.txt'\n",
    "\n",
    "y_pred_lstm = []\n",
    "with open(scoreFile1, 'r') as f:\n",
    "    for line in f.readlines():\n",
    "        pro = line.strip().split(',')\n",
    "        y_pred_lstm.append(float(pro[1]))\n",
    "\n",
    "y_pred_blstm = []\n",
    "with open(scoreFile2, 'r') as f:\n",
    "    for line in f.readlines():\n",
    "        pro = line.strip().split(',')\n",
    "        y_pred_blstm.append(float(pro[1]))\n",
    "\n",
    "y_pred_blstm_word2vec = []\n",
    "with open(scoreFile3, 'r') as f:\n",
    "    for line in f.readlines():\n",
    "        pro = line.strip().split(',')\n",
    "        y_pred_blstm_word2vec.append(float(pro[1]))\n",
    "\n",
    "y_pred_blstm_word2vec_attention = []\n",
    "with open(scoreFile4, 'r') as f:\n",
    "    for line in f.readlines():\n",
    "        pro = line.strip().split(',')\n",
    "        y_pred_blstm_word2vec_attention.append(float(pro[1]))"
   ]
  },
  {
   "cell_type": "code",
   "execution_count": 26,
   "metadata": {},
   "outputs": [
    {
     "name": "stdout",
     "output_type": "stream",
     "text": [
      "1131\n",
      "0.7131147540983607\n"
     ]
    }
   ],
   "source": [
    "num = 0\n",
    "for i in range(len(y_true)):\n",
    "    if y_true[i] == y_pred_lstm[i]: num += 1\n",
    "print(num)\n",
    "print(num / len(y_true))"
   ]
  },
  {
   "cell_type": "code",
   "execution_count": 27,
   "metadata": {},
   "outputs": [
    {
     "name": "stdout",
     "output_type": "stream",
     "text": [
      "1112\n",
      "0.7011349306431274\n"
     ]
    }
   ],
   "source": [
    "num = 0\n",
    "for i in range(len(y_true)):\n",
    "    if y_true[i] == y_pred_blstm[i]: num += 1\n",
    "print(num)\n",
    "print(num / len(y_true))"
   ]
  },
  {
   "cell_type": "code",
   "execution_count": 28,
   "metadata": {},
   "outputs": [
    {
     "name": "stdout",
     "output_type": "stream",
     "text": [
      "1158\n",
      "0.7301387137452712\n"
     ]
    }
   ],
   "source": [
    "num = 0\n",
    "for i in range(len(y_true)):\n",
    "    if y_true[i] == y_pred_blstm_word2vec[i]: num += 1\n",
    "print(num)\n",
    "print(num / len(y_true))"
   ]
  },
  {
   "cell_type": "code",
   "execution_count": 29,
   "metadata": {},
   "outputs": [
    {
     "name": "stdout",
     "output_type": "stream",
     "text": [
      "1150\n",
      "0.725094577553594\n"
     ]
    }
   ],
   "source": [
    "num = 0\n",
    "for i in range(len(y_true)):\n",
    "    if y_true[i] == y_pred_blstm_word2vec_attention[i]: num += 1\n",
    "print(num)\n",
    "print(num / len(y_true))"
   ]
  },
  {
   "cell_type": "markdown",
   "metadata": {},
   "source": [
    "### MRR MAP ACC-1 评估\n",
    "![alt text](img/mrr.jpg \"title\")\n",
    "![alt text](img/map.jpg \"title\")\n",
    "![alt text](img/acc.jpg \"title\")"
   ]
  },
  {
   "cell_type": "code",
   "execution_count": 7,
   "metadata": {},
   "outputs": [],
   "source": [
    "import json\n",
    "\n",
    "with open('test_data_sample.json', 'r') as f:\n",
    "    data = json.load(f)\n",
    "\n",
    "qIndex2aIndex = {} # 问题到答案的映射\n",
    "aIndex2qIndex = {} # 答案到问题的映射\n",
    "for qa in data:\n",
    "    item_id = qa['item_id']\n",
    "    qIndex2aIndex[item_id] = []\n",
    "    for passage in qa['passages']:\n",
    "        passage_id = passage['passage_id']\n",
    "        qIndex2aIndex[item_id].append(passage_id)\n",
    "        aIndex2qIndex[passage_id] = item_id"
   ]
  },
  {
   "cell_type": "code",
   "execution_count": 8,
   "metadata": {},
   "outputs": [],
   "source": [
    "class Evaluator(object):\n",
    "    qIndex2aIndex2aLabel = {} # 问题到答案到标签的映射\n",
    "    qIndex2aIndex2aScore = {} # 问题到答案到分数的映射\n",
    "    MRRList = []\n",
    "    MAPList = []\n",
    "    ACC_1List = []\n",
    "\n",
    "    def __init__(self, qaPairFile, scoreFile):\n",
    "        self.loadData(qaPairFile, scoreFile)\n",
    "\n",
    "    def loadData(self, qaPairFile, scoreFile):\n",
    "        qaPairLines = open(qaPairFile, 'r').readlines()\n",
    "        scoreLines = open(scoreFile, 'r').readlines()\n",
    "        assert len(qaPairLines) == len(scoreLines)\n",
    "        \n",
    "        for idx in range(len(qaPairLines)):\n",
    "            qaLine = qaPairLines[idx].strip()\n",
    "            scLine = scoreLines[idx].strip()\n",
    "            qaLineArr = qaLine.split(',')\n",
    "            scLineArr = scLine.split(',')\n",
    "            \n",
    "            assert qaLineArr[0] == scLineArr[0]\n",
    "            assert len(qaLineArr) == 2\n",
    "            assert len(scLineArr) == 2\n",
    "            \n",
    "            label = int(qaLineArr[1])\n",
    "            score = float(scLineArr[1])\n",
    "            aIndex = int(qaLineArr[0])\n",
    "            qIndex = aIndex2qIndex[aIndex]\n",
    "            \n",
    "            if not qIndex in self.qIndex2aIndex2aScore:\n",
    "                self.qIndex2aIndex2aScore[qIndex] = {}\n",
    "                self.qIndex2aIndex2aLabel[qIndex] = {}\n",
    "            self.qIndex2aIndex2aLabel[qIndex][aIndex] = label\n",
    "            self.qIndex2aIndex2aScore[qIndex][aIndex] = score\n",
    "\n",
    "    def calculate(self):\n",
    "        # 对同一个问题分析答案\n",
    "        for qIndex, index2label in self.qIndex2aIndex2aLabel.items():\n",
    "            index2score = self.qIndex2aIndex2aScore[qIndex]\n",
    "            rankedList = sorted(index2score.items(), key=lambda b: b[1], reverse=True) # 按照降序排序\n",
    "            \n",
    "            rankIndex = 0\n",
    "            collectNum = 0\n",
    "            collectList = []\n",
    "            acc1 = 0\n",
    "            for info in rankedList:\n",
    "                aIndex = info[0]\n",
    "                label = index2label[aIndex]\n",
    "                rankIndex += 1\n",
    "                if label == 1:\n",
    "                    if rankIndex == 1: acc1 = 1 # TOP-1\n",
    "                    collectNum += 1\n",
    "                    p = float(collectNum) / rankIndex\n",
    "                    collectList.append(p)\n",
    "            self.MRRList.append(collectList[0])\n",
    "            self.MAPList.append(float(sum(collectList)) / len(collectList))\n",
    "            self.ACC_1List.append(acc1)\n",
    "\n",
    "    def MRR(self):\n",
    "        return float(sum(self.MRRList)) / len(self.MRRList)\n",
    "\n",
    "    def MAP(self):\n",
    "        return float(sum(self.MAPList)) / len(self.MAPList)\n",
    "\n",
    "    def ACC_1(self):\n",
    "        return float(sum(self.ACC_1List)) / len(self.ACC_1List)\n",
    "\n",
    "\n",
    "def evaluate(qaPairFile, scoreFile):\n",
    "    testor = Evaluator(qaPairFile, scoreFile)\n",
    "    testor.calculate()\n",
    "    print(\"MRR:%f \\t MAP:%f \\t ACC_1:%f\\n\" % (testor.MRR(), testor.MAP(), testor.ACC_1()))"
   ]
  },
  {
   "cell_type": "code",
   "execution_count": 12,
   "metadata": {},
   "outputs": [
    {
     "name": "stdout",
     "output_type": "stream",
     "text": [
      "MRR:0.401873 \t MAP:0.373016 \t ACC_1:0.224000\n",
      "\n",
      "MRR:0.435249 \t MAP:0.394119 \t ACC_1:0.256667\n",
      "\n",
      "MRR:0.462888 \t MAP:0.412843 \t ACC_1:0.282857\n",
      "\n",
      "MRR:0.475899 \t MAP:0.421312 \t ACC_1:0.296250\n",
      "\n"
     ]
    }
   ],
   "source": [
    "qaPairFile = 'submit_sample.txt'\n",
    "scoreFile1 = 'predict/predict-lstm-1.txt'\n",
    "scoreFile2 = 'predict/predict-blstm-1.txt'\n",
    "scoreFile3 = 'predict/predict-blstm-word2vec-1.txt'\n",
    "scoreFile4 = 'predict/predict-blstm-word2vec-attention-1.txt'\n",
    "\n",
    "evaluate(qaPairFile, scoreFile1)\n",
    "evaluate(qaPairFile, scoreFile2)\n",
    "evaluate(qaPairFile, scoreFile3)\n",
    "evaluate(qaPairFile, scoreFile4)"
   ]
  },
  {
   "cell_type": "markdown",
   "metadata": {},
   "source": [
    "## 线性回归 拟合"
   ]
  },
  {
   "cell_type": "code",
   "execution_count": 35,
   "metadata": {},
   "outputs": [
    {
     "data": {
      "image/png": "[encoded data removed]",
      "text/plain": [
       "<matplotlib.figure.Figure at 0x7f80c3db1ef0>"
      ]
     },
     "metadata": {},
     "output_type": "display_data"
    }
   ],
   "source": [
    "%matplotlib inline\n",
    "import matplotlib.pyplot as plt\n",
    "import numpy as np\n",
    "\n",
    "X = y_pred\n",
    "Y = [0] * len(y_pred)\n",
    "T = y_true\n",
    "\n",
    "plt.scatter(X, Y, s=50, c=T, alpha=.5)\n",
    "\n",
    "plt.xlim(-1, 1)\n",
    "plt.ylim(-1, 1)\n",
    "plt.show()"
   ]
  },
  {
   "cell_type": "code",
   "execution_count": 36,
   "metadata": {},
   "outputs": [
    {
     "data": {
      "text/plain": [
       "0.7352941176470589"
      ]
     },
     "execution_count": 36,
     "metadata": {},
     "output_type": "execute_result"
    }
   ],
   "source": [
    "import numpy as np\n",
    "from sklearn.model_selection import train_test_split\n",
    "from sklearn.metrics import accuracy_score\n",
    "\n",
    "X = np.array(y_pred).reshape(-1, 1)\n",
    "y = y_true\n",
    "X_train, X_test, y_train, y_test = train_test_split(X, y, test_size=0.3, random_state = 0)\n",
    "\n",
    "# 训练\n",
    "from sklearn.linear_model import LogisticRegression\n",
    "lr = LogisticRegression()\n",
    "lr.fit(X_train, y_train)\n",
    "\n",
    "# 测试\n",
    "y_ = lr.predict(X_test)\n",
    "accuracy_score(y_test, y_)"
   ]
  },
  {
   "cell_type": "code",
   "execution_count": 37,
   "metadata": {},
   "outputs": [
    {
     "name": "stdout",
     "output_type": "stream",
     "text": [
      "[0]\n",
      "[0]\n"
     ]
    }
   ],
   "source": [
    "print(lr.predict(0.50))\n",
    "print(lr.predict(0.51))"
   ]
  }
 ],
 "metadata": {
  "kernelspec": {
   "display_name": "Python 3",
   "language": "python",
   "name": "python3"
  },
  "language_info": {
   "codemirror_mode": {
    "name": "ipython",
    "version": 3
   },
   "file_extension": ".py",
   "mimetype": "text/x-python",
   "name": "python",
   "nbconvert_exporter": "python",
   "pygments_lexer": "ipython3",
   "version": "3.6.4"
  }
 },
 "nbformat": 4,
 "nbformat_minor": 2
}
