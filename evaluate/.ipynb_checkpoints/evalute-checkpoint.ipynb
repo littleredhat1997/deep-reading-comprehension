{
 "cells": [
  {
   "cell_type": "code",
   "execution_count": 1,
   "metadata": {},
   "outputs": [],
   "source": [
    "y_true = []\n",
    "with open('../main/data/submit_sample.txt', 'r') as f:\n",
    "    for line in f.readlines():\n",
    "        pro = line.strip().split(',')\n",
    "        y_true.append(int(pro[1]))"
   ]
  },
  {
   "cell_type": "code",
   "execution_count": 2,
   "metadata": {},
   "outputs": [
    {
     "name": "stdout",
     "output_type": "stream",
     "text": [
      "1586 [0, 0, 0, 0, 1, 0, 0, 0, 0, 0]\n"
     ]
    }
   ],
   "source": [
    "print(len(y_true), y_true[0:10])"
   ]
  },
  {
   "cell_type": "code",
   "execution_count": 3,
   "metadata": {},
   "outputs": [],
   "source": [
    "scoreFile1 = '../main/predict/predict-lstm.txt'\n",
    "scoreFile2 = '../main/predict/predict-blstm.txt'\n",
    "scoreFile3 = '../main/predict/predict-blstm-word2vec.txt'\n",
    "scoreFile4 = '../main/predict/predict-blstm-word2vec-attention.txt'\n",
    "\n",
    "y_pred_lstm = []\n",
    "with open(scoreFile1, 'r') as f:\n",
    "    for line in f.readlines():\n",
    "        pro = line.strip().split(',')\n",
    "        y_pred_lstm.append(float(pro[1]))\n",
    "\n",
    "y_pred_blstm = []\n",
    "with open(scoreFile2, 'r') as f:\n",
    "    for line in f.readlines():\n",
    "        pro = line.strip().split(',')\n",
    "        y_pred_blstm.append(float(pro[1]))\n",
    "\n",
    "y_pred_blstm_word2vec = []\n",
    "with open(scoreFile3, 'r') as f:\n",
    "    for line in f.readlines():\n",
    "        pro = line.strip().split(',')\n",
    "        y_pred_blstm_word2vec.append(float(pro[1]))\n",
    "\n",
    "y_pred_blstm_word2vec_attention = []\n",
    "with open(scoreFile4, 'r') as f:\n",
    "    for line in f.readlines():\n",
    "        pro = line.strip().split(',')\n",
    "        y_pred_blstm_word2vec_attention.append(float(pro[1]))"
   ]
  },
  {
   "cell_type": "code",
   "execution_count": 4,
   "metadata": {},
   "outputs": [
    {
     "name": "stdout",
     "output_type": "stream",
     "text": [
      "1156\n",
      "0.7288776796973518\n"
     ]
    }
   ],
   "source": [
    "num = 0\n",
    "for i in range(len(y_true)):\n",
    "    if y_true[i] == 0 and y_pred_lstm[i] < 0.5: num += 1\n",
    "    if y_true[i] == 1 and y_pred_lstm[i] >= 0.5: num += 1\n",
    "print(num)\n",
    "print(num / len(y_true))"
   ]
  },
  {
   "cell_type": "code",
   "execution_count": 5,
   "metadata": {},
   "outputs": [
    {
     "name": "stdout",
     "output_type": "stream",
     "text": [
      "1150\n",
      "0.725094577553594\n"
     ]
    }
   ],
   "source": [
    "num = 0\n",
    "for i in range(len(y_true)):\n",
    "    if y_true[i] == 0 and y_pred_blstm[i] < 0.5: num += 1\n",
    "    if y_true[i] == 1 and y_pred_blstm[i] >= 0.5: num += 1\n",
    "print(num)\n",
    "print(num / len(y_true))"
   ]
  },
  {
   "cell_type": "code",
   "execution_count": 6,
   "metadata": {},
   "outputs": [
    {
     "name": "stdout",
     "output_type": "stream",
     "text": [
      "1169\n",
      "0.7370744010088273\n"
     ]
    }
   ],
   "source": [
    "num = 0\n",
    "for i in range(len(y_true)):\n",
    "    if y_true[i] == 0 and y_pred_blstm_word2vec[i] < 0.5: num += 1\n",
    "    if y_true[i] == 1 and y_pred_blstm_word2vec[i] >= 0.5: num += 1\n",
    "print(num)\n",
    "print(num / len(y_true))"
   ]
  },
  {
   "cell_type": "code",
   "execution_count": 7,
   "metadata": {},
   "outputs": [
    {
     "name": "stdout",
     "output_type": "stream",
     "text": [
      "1148\n",
      "0.7238335435056746\n"
     ]
    }
   ],
   "source": [
    "num = 0\n",
    "for i in range(len(y_true)):\n",
    "    if y_true[i] == 0 and y_pred_blstm_word2vec_attention[i] < 0.5: num += 1\n",
    "    if y_true[i] == 1 and y_pred_blstm_word2vec_attention[i] >= 0.5: num += 1\n",
    "print(num)\n",
    "print(num / len(y_true))"
   ]
  },
  {
   "cell_type": "markdown",
   "metadata": {},
   "source": [
    "### MRR MAP TOP-1 评估\n",
    "![alt text](img/mrr.jpg \"title\")\n",
    "![alt text](img/map.jpg \"title\")\n",
    "![alt text](img/acc.jpg \"title\")"
   ]
  },
  {
   "cell_type": "code",
   "execution_count": 8,
   "metadata": {},
   "outputs": [],
   "source": [
    "import json\n",
    "\n",
    "with open('../main/data/test_data_sample.json', 'r') as f:\n",
    "    data = json.load(f)\n",
    "\n",
    "qIndex2aIndex = {} # 问题到答案的映射\n",
    "aIndex2qIndex = {} # 答案到问题的映射\n",
    "for qa in data:\n",
    "    item_id = qa['item_id']\n",
    "    qIndex2aIndex[item_id] = []\n",
    "    for passage in qa['passages']:\n",
    "        passage_id = passage['passage_id']\n",
    "        qIndex2aIndex[item_id].append(passage_id)\n",
    "        aIndex2qIndex[passage_id] = item_id"
   ]
  },
  {
   "cell_type": "code",
   "execution_count": 9,
   "metadata": {},
   "outputs": [],
   "source": [
    "class Evaluator(object):\n",
    "    qIndex2aIndex2aLabel = {} # 问题到答案到标签的映射\n",
    "    qIndex2aIndex2aScore = {} # 问题到答案到分数的映射\n",
    "    MRRList = []\n",
    "    MAPList = []\n",
    "    TOP_1List = []\n",
    "\n",
    "    def __init__(self, qaPairFile, scoreFile):\n",
    "        self.loadData(qaPairFile, scoreFile)\n",
    "\n",
    "    def loadData(self, qaPairFile, scoreFile):\n",
    "        qaPairLines = open(qaPairFile, 'r').readlines()\n",
    "        scoreLines = open(scoreFile, 'r').readlines()\n",
    "        assert len(qaPairLines) == len(scoreLines)\n",
    "        \n",
    "        for idx in range(len(qaPairLines)):\n",
    "            qaLine = qaPairLines[idx].strip()\n",
    "            scLine = scoreLines[idx].strip()\n",
    "            qaLineArr = qaLine.split(',')\n",
    "            scLineArr = scLine.split(',')\n",
    "            \n",
    "            assert qaLineArr[0] == scLineArr[0]\n",
    "            assert len(qaLineArr) == 2\n",
    "            assert len(scLineArr) == 2\n",
    "            \n",
    "            label = int(qaLineArr[1])\n",
    "            score = float(scLineArr[1])\n",
    "            aIndex = int(qaLineArr[0])\n",
    "            qIndex = aIndex2qIndex[aIndex]\n",
    "            \n",
    "            if not qIndex in self.qIndex2aIndex2aScore:\n",
    "                self.qIndex2aIndex2aScore[qIndex] = {}\n",
    "                self.qIndex2aIndex2aLabel[qIndex] = {}\n",
    "            self.qIndex2aIndex2aLabel[qIndex][aIndex] = label\n",
    "            self.qIndex2aIndex2aScore[qIndex][aIndex] = score\n",
    "\n",
    "    def calculate(self):\n",
    "        # 对同一个问题分析答案\n",
    "        for qIndex, index2label in self.qIndex2aIndex2aLabel.items():\n",
    "            index2score = self.qIndex2aIndex2aScore[qIndex]\n",
    "            rankedList = sorted(index2score.items(), key=lambda b: b[1], reverse=True) # 按照降序排序\n",
    "            \n",
    "            rankIndex = 0\n",
    "            collectNum = 0\n",
    "            collectList = []\n",
    "            top = 0\n",
    "            for info in rankedList:\n",
    "                aIndex = info[0]\n",
    "                label = index2label[aIndex]\n",
    "                rankIndex += 1\n",
    "                if label == 1:\n",
    "                    if rankIndex == 1: top = 1 # TOP-1\n",
    "                    collectNum += 1\n",
    "                    p = float(collectNum) / rankIndex\n",
    "                    collectList.append(p)\n",
    "            self.MRRList.append(collectList[0])\n",
    "            self.MAPList.append(float(sum(collectList)) / len(collectList))\n",
    "            self.TOP_1List.append(top)\n",
    "\n",
    "    def MRR(self):\n",
    "        return float(sum(self.MRRList)) / len(self.MRRList)\n",
    "\n",
    "    def MAP(self):\n",
    "        return float(sum(self.MAPList)) / len(self.MAPList)\n",
    "\n",
    "    def TOP_1(self):\n",
    "        return float(sum(self.TOP_1List)) / len(self.TOP_1List)\n",
    "\n",
    "\n",
    "def evaluate(qaPairFile, scoreFile):\n",
    "    testor = Evaluator(qaPairFile, scoreFile)\n",
    "    testor.calculate()\n",
    "    print(\"MRR:%f \\t MAP:%f \\t TOP_1:%f\\n\" % (testor.MRR(), testor.MAP(), testor.TOP_1()))"
   ]
  },
  {
   "cell_type": "code",
   "execution_count": 10,
   "metadata": {},
   "outputs": [
    {
     "name": "stdout",
     "output_type": "stream",
     "text": [
      "MRR:0.674949 \t MAP:0.573833 \t TOP_1:0.490000\n",
      "\n",
      "MRR:0.678883 \t MAP:0.587460 \t TOP_1:0.495000\n",
      "\n",
      "MRR:0.684533 \t MAP:0.598566 \t TOP_1:0.513333\n",
      "\n",
      "MRR:0.693186 \t MAP:0.600607 \t TOP_1:0.527500\n",
      "\n"
     ]
    }
   ],
   "source": [
    "qaPairFile = '../main/data/submit_sample.txt'\n",
    "scoreFile1 = '../main/predict/predict-lstm.txt'\n",
    "scoreFile2 = '../main/predict/predict-blstm.txt'\n",
    "scoreFile3 = '../main/predict/predict-blstm-word2vec.txt'\n",
    "scoreFile4 = '../main/predict/predict-blstm-word2vec-attention.txt'\n",
    "\n",
    "evaluate(qaPairFile, scoreFile1)\n",
    "evaluate(qaPairFile, scoreFile2)\n",
    "evaluate(qaPairFile, scoreFile3)\n",
    "evaluate(qaPairFile, scoreFile4)"
   ]
  },
  {
   "cell_type": "markdown",
   "metadata": {},
   "source": [
    "## 线性回归 拟合"
   ]
  },
  {
   "cell_type": "code",
   "execution_count": 11,
   "metadata": {},
   "outputs": [
    {
     "data": {
      "image/png": "[encoded data removed]",
      "text/plain": [
       "<matplotlib.figure.Figure at 0x7f398559d908>"
      ]
     },
     "metadata": {},
     "output_type": "display_data"
    }
   ],
   "source": [
    "%matplotlib inline\n",
    "import matplotlib.pyplot as plt\n",
    "import numpy as np\n",
    "\n",
    "X1 = y_pred_lstm\n",
    "X2 = y_pred_blstm\n",
    "X3 = y_pred_blstm_word2vec\n",
    "X4 = y_pred_blstm_word2vec_attention\n",
    "Y = [0] * len(y_true)\n",
    "T = y_true\n",
    "\n",
    "plt.figure(figsize=(10, 8))\n",
    "\n",
    "plt.subplot(2, 2, 1)\n",
    "plt.title('lstm')\n",
    "plt.scatter(X1, Y, s=50, c=T, alpha=.5)\n",
    "plt.subplot(2, 2, 2)\n",
    "plt.title('blstm')\n",
    "plt.scatter(X2, Y, s=50, c=T, alpha=.5)\n",
    "plt.subplot(2, 2, 3)\n",
    "plt.title('blstm-word2vec')\n",
    "plt.scatter(X3, Y, s=50, c=T, alpha=.5)\n",
    "plt.subplot(2, 2, 4)\n",
    "plt.title('blstm-word2vec-attention')\n",
    "plt.scatter(X4, Y, s=50, c=T, alpha=.5)\n",
    "\n",
    "\n",
    "plt.show()"
   ]
  }
 ],
 "metadata": {
  "kernelspec": {
   "display_name": "Python 3",
   "language": "python",
   "name": "python3"
  },
  "language_info": {
   "codemirror_mode": {
    "name": "ipython",
    "version": 3
   },
   "file_extension": ".py",
   "mimetype": "text/x-python",
   "name": "python",
   "nbconvert_exporter": "python",
   "pygments_lexer": "ipython3",
   "version": "3.6.4"
  }
 },
 "nbformat": 4,
 "nbformat_minor": 2
}
