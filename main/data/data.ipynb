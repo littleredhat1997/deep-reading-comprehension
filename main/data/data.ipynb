{
 "cells": [
  {
   "cell_type": "markdown",
   "metadata": {},
   "source": [
    "## 数据预处理-词向量\n",
    "1. Cut\n",
    "3. Tokenizer\n",
    "4. Sequences\n",
    "5. Padding"
   ]
  },
  {
   "cell_type": "code",
   "execution_count": 1,
   "metadata": {},
   "outputs": [],
   "source": [
    "%matplotlib inline\n",
    "import matplotlib.pyplot as plt\n",
    "import numpy as np\n",
    "\n",
    "import json\n",
    "import jieba\n",
    "import pickle"
   ]
  },
  {
   "cell_type": "markdown",
   "metadata": {},
   "source": [
    "### 训练数据"
   ]
  },
  {
   "cell_type": "code",
   "execution_count": 2,
   "metadata": {},
   "outputs": [
    {
     "name": "stderr",
     "output_type": "stream",
     "text": [
      "Building prefix dict from the default dictionary ...\n",
      "Loading model from cache /tmp/jieba.cache\n",
      "Loading model cost 0.871 seconds.\n",
      "Prefix dict has been built succesfully.\n"
     ]
    }
   ],
   "source": [
    "# load train data\n",
    "train_path = '../train_data_complete.json'\n",
    "with open(train_path, 'r') as f:\n",
    "    train = json.load(f)\n",
    "\n",
    "train_q = []\n",
    "train_a = []\n",
    "train_y = []\n",
    "qlen1 = []\n",
    "qlen2 = []\n",
    "alen1 = []\n",
    "alen2 = []\n",
    "for item in train:\n",
    "    q = item['question']\n",
    "    qq = list(jieba.cut(q))\n",
    "    \n",
    "    qlen1.append(len(q))\n",
    "    qlen2.append(len(qq))\n",
    "    qqq = ' '.join(qq)\n",
    "    for passage in item['passages']:\n",
    "        a = passage['content']\n",
    "        aa = list(jieba.cut(a))\n",
    "        \n",
    "        alen1.append(len(a))\n",
    "        alen2.append(len(aa))\n",
    "        aaa = ' '.join(aa)\n",
    "        \n",
    "        train_q.append(qqq)\n",
    "        train_a.append(aaa)\n",
    "        train_y.append(passage['label'])"
   ]
  },
  {
   "cell_type": "markdown",
   "metadata": {},
   "source": [
    "### 分词前统计"
   ]
  },
  {
   "cell_type": "code",
   "execution_count": 3,
   "metadata": {},
   "outputs": [
    {
     "data": {
      "text/html": [
       "<div>\n",
       "<style scoped>\n",
       "    .dataframe tbody tr th:only-of-type {\n",
       "        vertical-align: middle;\n",
       "    }\n",
       "\n",
       "    .dataframe tbody tr th {\n",
       "        vertical-align: top;\n",
       "    }\n",
       "\n",
       "    .dataframe thead th {\n",
       "        text-align: right;\n",
       "    }\n",
       "</style>\n",
       "<table border=\"1\" class=\"dataframe\">\n",
       "  <thead>\n",
       "    <tr style=\"text-align: right;\">\n",
       "      <th></th>\n",
       "      <th>0</th>\n",
       "    </tr>\n",
       "  </thead>\n",
       "  <tbody>\n",
       "    <tr>\n",
       "      <th>count</th>\n",
       "      <td>30000.000000</td>\n",
       "    </tr>\n",
       "    <tr>\n",
       "      <th>mean</th>\n",
       "      <td>12.877500</td>\n",
       "    </tr>\n",
       "    <tr>\n",
       "      <th>std</th>\n",
       "      <td>7.403904</td>\n",
       "    </tr>\n",
       "    <tr>\n",
       "      <th>min</th>\n",
       "      <td>4.000000</td>\n",
       "    </tr>\n",
       "    <tr>\n",
       "      <th>25%</th>\n",
       "      <td>9.000000</td>\n",
       "    </tr>\n",
       "    <tr>\n",
       "      <th>50%</th>\n",
       "      <td>11.000000</td>\n",
       "    </tr>\n",
       "    <tr>\n",
       "      <th>75%</th>\n",
       "      <td>15.000000</td>\n",
       "    </tr>\n",
       "    <tr>\n",
       "      <th>max</th>\n",
       "      <td>243.000000</td>\n",
       "    </tr>\n",
       "  </tbody>\n",
       "</table>\n",
       "</div>"
      ],
      "text/plain": [
       "                  0\n",
       "count  30000.000000\n",
       "mean      12.877500\n",
       "std        7.403904\n",
       "min        4.000000\n",
       "25%        9.000000\n",
       "50%       11.000000\n",
       "75%       15.000000\n",
       "max      243.000000"
      ]
     },
     "execution_count": 3,
     "metadata": {},
     "output_type": "execute_result"
    }
   ],
   "source": [
    "import pandas as pd\n",
    "\n",
    "# 按日期\n",
    "df1 = pd.DataFrame(qlen1)\n",
    "df1.describe()"
   ]
  },
  {
   "cell_type": "code",
   "execution_count": 4,
   "metadata": {},
   "outputs": [
    {
     "data": {
      "image/png": "[encoded data removed]",
      "text/plain": [
       "<matplotlib.figure.Figure at 0x7f4649907d68>"
      ]
     },
     "metadata": {},
     "output_type": "display_data"
    }
   ],
   "source": [
    "bins = [0, 5, 10, 15, 20, 25]\n",
    "cats = pd.cut(qlen1, bins)\n",
    "vc = pd.value_counts(cats, sort=False)\n",
    "\n",
    "name_list = bins[1:]\n",
    "score_list = vc.values\n",
    "\n",
    "# 设置柱状图\n",
    "index = np.arange(len(name_list))\n",
    "plt.bar(index, score_list, color='r')\n",
    "for a, b in zip(index, score_list):\n",
    "    plt.text(a, b, '%d' % b, ha='center', va= 'bottom', fontsize=12)\n",
    "\n",
    "plt.xlabel('Character Count')\n",
    "plt.ylabel('Sum')\n",
    "plt.xticks(index, name_list)\n",
    "plt.tight_layout()\n",
    "plt.show()"
   ]
  },
  {
   "cell_type": "code",
   "execution_count": 5,
   "metadata": {},
   "outputs": [
    {
     "data": {
      "text/html": [
       "<div>\n",
       "<style scoped>\n",
       "    .dataframe tbody tr th:only-of-type {\n",
       "        vertical-align: middle;\n",
       "    }\n",
       "\n",
       "    .dataframe tbody tr th {\n",
       "        vertical-align: top;\n",
       "    }\n",
       "\n",
       "    .dataframe thead th {\n",
       "        text-align: right;\n",
       "    }\n",
       "</style>\n",
       "<table border=\"1\" class=\"dataframe\">\n",
       "  <thead>\n",
       "    <tr style=\"text-align: right;\">\n",
       "      <th></th>\n",
       "      <th>0</th>\n",
       "    </tr>\n",
       "  </thead>\n",
       "  <tbody>\n",
       "    <tr>\n",
       "      <th>count</th>\n",
       "      <td>477019.000000</td>\n",
       "    </tr>\n",
       "    <tr>\n",
       "      <th>mean</th>\n",
       "      <td>101.171255</td>\n",
       "    </tr>\n",
       "    <tr>\n",
       "      <th>std</th>\n",
       "      <td>94.959001</td>\n",
       "    </tr>\n",
       "    <tr>\n",
       "      <th>min</th>\n",
       "      <td>0.000000</td>\n",
       "    </tr>\n",
       "    <tr>\n",
       "      <th>25%</th>\n",
       "      <td>46.000000</td>\n",
       "    </tr>\n",
       "    <tr>\n",
       "      <th>50%</th>\n",
       "      <td>91.000000</td>\n",
       "    </tr>\n",
       "    <tr>\n",
       "      <th>75%</th>\n",
       "      <td>122.000000</td>\n",
       "    </tr>\n",
       "    <tr>\n",
       "      <th>max</th>\n",
       "      <td>6425.000000</td>\n",
       "    </tr>\n",
       "  </tbody>\n",
       "</table>\n",
       "</div>"
      ],
      "text/plain": [
       "                   0\n",
       "count  477019.000000\n",
       "mean      101.171255\n",
       "std        94.959001\n",
       "min         0.000000\n",
       "25%        46.000000\n",
       "50%        91.000000\n",
       "75%       122.000000\n",
       "max      6425.000000"
      ]
     },
     "execution_count": 5,
     "metadata": {},
     "output_type": "execute_result"
    }
   ],
   "source": [
    "import pandas as pd\n",
    "\n",
    "# 按日期\n",
    "df2 = pd.DataFrame(alen1)\n",
    "df2.describe()"
   ]
  },
  {
   "cell_type": "code",
   "execution_count": 6,
   "metadata": {},
   "outputs": [
    {
     "data": {
      "image/png": "[encoded data removed]",
      "text/plain": [
       "<matplotlib.figure.Figure at 0x7f4649907da0>"
      ]
     },
     "metadata": {},
     "output_type": "display_data"
    }
   ],
   "source": [
    "bins = [0, 50, 100, 150, 200, 250]\n",
    "cats = pd.cut(alen1, bins)\n",
    "vc = pd.value_counts(cats, sort=False)\n",
    "\n",
    "name_list = bins[1:]\n",
    "score_list = vc.values\n",
    "\n",
    "# 设置柱状图\n",
    "index = np.arange(len(name_list))\n",
    "plt.bar(index, score_list, color='r')\n",
    "for a, b in zip(index, score_list):\n",
    "    plt.text(a, b, '%d' % b, ha='center', va= 'bottom', fontsize=12)\n",
    "\n",
    "plt.xlabel('Character Count')\n",
    "plt.ylabel('Sum')\n",
    "plt.xticks(index, name_list)\n",
    "plt.tight_layout()\n",
    "plt.show()"
   ]
  },
  {
   "cell_type": "markdown",
   "metadata": {},
   "source": [
    "### 分词后统计"
   ]
  },
  {
   "cell_type": "code",
   "execution_count": 7,
   "metadata": {},
   "outputs": [
    {
     "data": {
      "text/html": [
       "<div>\n",
       "<style scoped>\n",
       "    .dataframe tbody tr th:only-of-type {\n",
       "        vertical-align: middle;\n",
       "    }\n",
       "\n",
       "    .dataframe tbody tr th {\n",
       "        vertical-align: top;\n",
       "    }\n",
       "\n",
       "    .dataframe thead th {\n",
       "        text-align: right;\n",
       "    }\n",
       "</style>\n",
       "<table border=\"1\" class=\"dataframe\">\n",
       "  <thead>\n",
       "    <tr style=\"text-align: right;\">\n",
       "      <th></th>\n",
       "      <th>0</th>\n",
       "    </tr>\n",
       "  </thead>\n",
       "  <tbody>\n",
       "    <tr>\n",
       "      <th>count</th>\n",
       "      <td>30000.000000</td>\n",
       "    </tr>\n",
       "    <tr>\n",
       "      <th>mean</th>\n",
       "      <td>7.500600</td>\n",
       "    </tr>\n",
       "    <tr>\n",
       "      <th>std</th>\n",
       "      <td>4.523879</td>\n",
       "    </tr>\n",
       "    <tr>\n",
       "      <th>min</th>\n",
       "      <td>2.000000</td>\n",
       "    </tr>\n",
       "    <tr>\n",
       "      <th>25%</th>\n",
       "      <td>5.000000</td>\n",
       "    </tr>\n",
       "    <tr>\n",
       "      <th>50%</th>\n",
       "      <td>6.000000</td>\n",
       "    </tr>\n",
       "    <tr>\n",
       "      <th>75%</th>\n",
       "      <td>9.000000</td>\n",
       "    </tr>\n",
       "    <tr>\n",
       "      <th>max</th>\n",
       "      <td>148.000000</td>\n",
       "    </tr>\n",
       "  </tbody>\n",
       "</table>\n",
       "</div>"
      ],
      "text/plain": [
       "                  0\n",
       "count  30000.000000\n",
       "mean       7.500600\n",
       "std        4.523879\n",
       "min        2.000000\n",
       "25%        5.000000\n",
       "50%        6.000000\n",
       "75%        9.000000\n",
       "max      148.000000"
      ]
     },
     "execution_count": 7,
     "metadata": {},
     "output_type": "execute_result"
    }
   ],
   "source": [
    "import pandas as pd\n",
    "\n",
    "# 按日期\n",
    "df1 = pd.DataFrame(qlen2)\n",
    "df1.describe()"
   ]
  },
  {
   "cell_type": "code",
   "execution_count": 8,
   "metadata": {},
   "outputs": [
    {
     "data": {
      "image/png": "[encoded data removed]",
      "text/plain": [
       "<matplotlib.figure.Figure at 0x7f46478aa9b0>"
      ]
     },
     "metadata": {},
     "output_type": "display_data"
    }
   ],
   "source": [
    "bins = [0, 5, 10, 15, 20, 25]\n",
    "cats = pd.cut(qlen2, bins)\n",
    "vc = pd.value_counts(cats, sort=False)\n",
    "\n",
    "name_list = bins[1:]\n",
    "score_list = vc.values\n",
    "\n",
    "# 设置柱状图\n",
    "index = np.arange(len(name_list))\n",
    "plt.bar(index, score_list, color='r')\n",
    "for a, b in zip(index, score_list):\n",
    "    plt.text(a, b, '%d' % b, ha='center', va= 'bottom', fontsize=12)\n",
    "\n",
    "plt.xlabel('Word Count')\n",
    "plt.ylabel('Sum')\n",
    "plt.xticks(index, name_list)\n",
    "plt.tight_layout()\n",
    "plt.show()"
   ]
  },
  {
   "cell_type": "code",
   "execution_count": 9,
   "metadata": {},
   "outputs": [
    {
     "data": {
      "text/html": [
       "<div>\n",
       "<style scoped>\n",
       "    .dataframe tbody tr th:only-of-type {\n",
       "        vertical-align: middle;\n",
       "    }\n",
       "\n",
       "    .dataframe tbody tr th {\n",
       "        vertical-align: top;\n",
       "    }\n",
       "\n",
       "    .dataframe thead th {\n",
       "        text-align: right;\n",
       "    }\n",
       "</style>\n",
       "<table border=\"1\" class=\"dataframe\">\n",
       "  <thead>\n",
       "    <tr style=\"text-align: right;\">\n",
       "      <th></th>\n",
       "      <th>0</th>\n",
       "    </tr>\n",
       "  </thead>\n",
       "  <tbody>\n",
       "    <tr>\n",
       "      <th>count</th>\n",
       "      <td>477019.000000</td>\n",
       "    </tr>\n",
       "    <tr>\n",
       "      <th>mean</th>\n",
       "      <td>59.815573</td>\n",
       "    </tr>\n",
       "    <tr>\n",
       "      <th>std</th>\n",
       "      <td>55.717135</td>\n",
       "    </tr>\n",
       "    <tr>\n",
       "      <th>min</th>\n",
       "      <td>0.000000</td>\n",
       "    </tr>\n",
       "    <tr>\n",
       "      <th>25%</th>\n",
       "      <td>27.000000</td>\n",
       "    </tr>\n",
       "    <tr>\n",
       "      <th>50%</th>\n",
       "      <td>53.000000</td>\n",
       "    </tr>\n",
       "    <tr>\n",
       "      <th>75%</th>\n",
       "      <td>74.000000</td>\n",
       "    </tr>\n",
       "    <tr>\n",
       "      <th>max</th>\n",
       "      <td>3545.000000</td>\n",
       "    </tr>\n",
       "  </tbody>\n",
       "</table>\n",
       "</div>"
      ],
      "text/plain": [
       "                   0\n",
       "count  477019.000000\n",
       "mean       59.815573\n",
       "std        55.717135\n",
       "min         0.000000\n",
       "25%        27.000000\n",
       "50%        53.000000\n",
       "75%        74.000000\n",
       "max      3545.000000"
      ]
     },
     "execution_count": 9,
     "metadata": {},
     "output_type": "execute_result"
    }
   ],
   "source": [
    "import pandas as pd\n",
    "\n",
    "# 按日期\n",
    "df2 = pd.DataFrame(alen2)\n",
    "df2.describe()"
   ]
  },
  {
   "cell_type": "code",
   "execution_count": 10,
   "metadata": {},
   "outputs": [
    {
     "data": {
      "image/png": "[encoded data removed]",
      "text/plain": [
       "<matplotlib.figure.Figure at 0x7f46477284a8>"
      ]
     },
     "metadata": {},
     "output_type": "display_data"
    }
   ],
   "source": [
    "bins = [0, 50, 100, 150, 200, 250]\n",
    "cats = pd.cut(alen2, bins)\n",
    "vc = pd.value_counts(cats, sort=False)\n",
    "\n",
    "name_list = bins[1:]\n",
    "score_list = vc.values\n",
    "\n",
    "# 设置柱状图\n",
    "index = np.arange(len(name_list))\n",
    "plt.bar(index, score_list, color='r')\n",
    "for a, b in zip(index, score_list):\n",
    "    plt.text(a, b, '%d' % b, ha='center', va= 'bottom', fontsize=12)\n",
    "\n",
    "plt.xlabel('Word Count')\n",
    "plt.ylabel('Sum')\n",
    "plt.xticks(index, name_list)\n",
    "plt.tight_layout()\n",
    "plt.show()"
   ]
  },
  {
   "cell_type": "markdown",
   "metadata": {},
   "source": [
    "### 测试数据"
   ]
  },
  {
   "cell_type": "code",
   "execution_count": 11,
   "metadata": {},
   "outputs": [],
   "source": [
    "id2label = {}\n",
    "sample_path = '../submit_sample.txt'\n",
    "with open(sample_path) as f:\n",
    "    for line in f.readlines():\n",
    "        pro = line.split(',')\n",
    "        id = int(pro[0])\n",
    "        label = int(pro[1])\n",
    "        id2label[id] = label\n",
    "\n",
    "# load test data\n",
    "test_path = '../test_data_sample.json'\n",
    "with open(test_path, 'r') as f:\n",
    "    test = json.load(f)\n",
    "\n",
    "test_q = []\n",
    "test_a = []\n",
    "test_y = []\n",
    "test_id = []\n",
    "for item in test:\n",
    "    q = ' '.join(jieba.cut(item['question']))\n",
    "    for passage in item['passages']:\n",
    "        a = ' '.join(jieba.cut(passage['content']))\n",
    "        test_q.append(q)\n",
    "        test_a.append(a)\n",
    "        test_id.append(passage['passage_id'])\n",
    "        test_y.append(id2label[passage['passage_id']])"
   ]
  },
  {
   "cell_type": "code",
   "execution_count": 12,
   "metadata": {},
   "outputs": [
    {
     "name": "stdout",
     "output_type": "stream",
     "text": [
      "1586\n",
      "1586\n"
     ]
    }
   ],
   "source": [
    "print(len(test_q))\n",
    "print(len(test_a))"
   ]
  },
  {
   "cell_type": "markdown",
   "metadata": {},
   "source": [
    "### 词嵌入处理"
   ]
  },
  {
   "cell_type": "code",
   "execution_count": 13,
   "metadata": {},
   "outputs": [],
   "source": [
    "MAX_SEQUENCE_LENGTH = 200 # 问题/答案 上限200个词\n",
    "EMBEDDING_DIM = 100 # 100d 词向量"
   ]
  },
  {
   "cell_type": "code",
   "execution_count": 14,
   "metadata": {},
   "outputs": [
    {
     "name": "stderr",
     "output_type": "stream",
     "text": [
      "/home/ubuntu/anaconda3/lib/python3.6/site-packages/h5py/__init__.py:36: FutureWarning: Conversion of the second argument of issubdtype from `float` to `np.floating` is deprecated. In future, it will be treated as `np.float64 == np.dtype(float).type`.\n",
      "  from ._conv import register_converters as _register_converters\n",
      "Using TensorFlow backend.\n"
     ]
    },
    {
     "name": "stdout",
     "output_type": "stream",
     "text": [
      "Found 554764 unique tokens.\n",
      "Shape of data tensor: (477019, 300)\n",
      "Shape of data tensor: (477019, 300)\n",
      "Shape of data tensor: (1586, 300)\n",
      "Shape of data tensor: (1586, 300)\n"
     ]
    }
   ],
   "source": [
    "# https://keras-cn-docs.readthedocs.io/zh_CN/latest/blog/word_embedding/\n",
    "from keras.preprocessing.text import Tokenizer\n",
    "from keras.preprocessing.sequence import pad_sequences\n",
    "\n",
    "# Tokenizer\n",
    "texts = train_q + train_a + test_q + test_a\n",
    "tokenizer = Tokenizer()\n",
    "tokenizer.fit_on_texts(texts)\n",
    "word_index = tokenizer.word_index\n",
    "print('Found %s unique tokens.' % len(tokenizer.word_index))\n",
    "\n",
    "# Sequences\n",
    "sequences_train_q = tokenizer.texts_to_sequences(train_q)\n",
    "sequences_train_a = tokenizer.texts_to_sequences(train_a)\n",
    "sequences_test_q = tokenizer.texts_to_sequences(test_q)\n",
    "sequences_test_a = tokenizer.texts_to_sequences(test_a)\n",
    "\n",
    "# Padding\n",
    "data_train_q = pad_sequences(sequences_train_q, maxlen=MAX_SEQUENCE_LENGTH)\n",
    "data_train_a = pad_sequences(sequences_train_a, maxlen=MAX_SEQUENCE_LENGTH)\n",
    "data_test_q = pad_sequences(sequences_test_q, maxlen=MAX_SEQUENCE_LENGTH)\n",
    "data_test_a = pad_sequences(sequences_test_a, maxlen=MAX_SEQUENCE_LENGTH)\n",
    "\n",
    "print('Shape of data tensor:', data_train_q.shape)\n",
    "print('Shape of data tensor:', data_train_a.shape)\n",
    "print('Shape of data tensor:', data_test_q.shape)\n",
    "print('Shape of data tensor:', data_test_a.shape)"
   ]
  },
  {
   "cell_type": "code",
   "execution_count": 15,
   "metadata": {},
   "outputs": [
    {
     "name": "stdout",
     "output_type": "stream",
     "text": [
      "Found 782241 word vectors.\n"
     ]
    }
   ],
   "source": [
    "embeddings_index = {}\n",
    "with open('../../../word2vec/wiki.vector') as f:\n",
    "    for line in f:\n",
    "        values = line.split()\n",
    "        word = values[0]\n",
    "        coefs = np.asarray(values[1:], dtype='float32')\n",
    "        embeddings_index[word] = coefs\n",
    "\n",
    "print('Found %s word vectors.' % len(embeddings_index))"
   ]
  },
  {
   "cell_type": "code",
   "execution_count": 16,
   "metadata": {},
   "outputs": [],
   "source": [
    "embedding_matrix = np.zeros((len(word_index) + 1, EMBEDDING_DIM))\n",
    "for word, i in word_index.items():\n",
    "    embedding_vector = embeddings_index.get(word)\n",
    "    if embedding_vector is not None:\n",
    "        # words not found in embedding index will be all-zeros.\n",
    "        embedding_matrix[i] = embedding_vector"
   ]
  },
  {
   "cell_type": "markdown",
   "metadata": {},
   "source": [
    "### 保存"
   ]
  },
  {
   "cell_type": "code",
   "execution_count": 17,
   "metadata": {},
   "outputs": [],
   "source": [
    "token_path = 'tokenizer.pkl'\n",
    "pickle.dump(tokenizer, open(token_path, 'wb'))\n",
    "\n",
    "np.save('train_q.npy', data_train_q)\n",
    "np.save('train_a.npy', data_train_a)\n",
    "np.save('train_y.npy', train_y)\n",
    "np.save('test_q.npy', data_test_q)\n",
    "np.save('test_a.npy', data_test_a)\n",
    "np.save('test_y.npy', test_y)\n",
    "np.save('test_id.npy', test_id)\n",
    "np.save('embedding_matrix.npy', embedding_matrix)"
   ]
  }
 ],
 "metadata": {
  "kernelspec": {
   "display_name": "Python 3",
   "language": "python",
   "name": "python3"
  },
  "language_info": {
   "codemirror_mode": {
    "name": "ipython",
    "version": 3
   },
   "file_extension": ".py",
   "mimetype": "text/x-python",
   "name": "python",
   "nbconvert_exporter": "python",
   "pygments_lexer": "ipython3",
   "version": "3.6.4"
  }
 },
 "nbformat": 4,
 "nbformat_minor": 2
}
