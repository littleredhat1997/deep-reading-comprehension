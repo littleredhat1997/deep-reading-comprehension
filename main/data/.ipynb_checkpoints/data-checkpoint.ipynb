{
 "cells": [
  {
   "cell_type": "markdown",
   "metadata": {},
   "source": [
    "## 数据预处理\n",
    "1. Cut\n",
    "3. Tokenizer\n",
    "4. Sequences\n",
    "5. Padding"
   ]
  },
  {
   "cell_type": "code",
   "execution_count": 1,
   "metadata": {},
   "outputs": [],
   "source": [
    "import json\n",
    "import jieba\n",
    "import pickle\n",
    "import numpy as np"
   ]
  },
  {
   "cell_type": "markdown",
   "metadata": {},
   "source": [
    "### 训练数据"
   ]
  },
  {
   "cell_type": "code",
   "execution_count": 2,
   "metadata": {},
   "outputs": [
    {
     "name": "stderr",
     "output_type": "stream",
     "text": [
      "Building prefix dict from the default dictionary ...\n",
      "Loading model from cache /tmp/jieba.cache\n",
      "Loading model cost 0.918 seconds.\n",
      "Prefix dict has been built succesfully.\n"
     ]
    }
   ],
   "source": [
    "# load train data\n",
    "train_path = 'train_data_complete.json'\n",
    "with open(train_path, 'r') as f:\n",
    "    train = json.load(f)\n",
    "\n",
    "train_q = []\n",
    "train_a = []\n",
    "train_y = []\n",
    "for item in train:\n",
    "    q = ' '.join(jieba.cut(item['question']))\n",
    "    for passage in item['passages']:\n",
    "        a = ' '.join(jieba.cut(passage['content']))\n",
    "        train_q.append(q)\n",
    "        train_a.append(a)\n",
    "        train_y.append(passage['label'])"
   ]
  },
  {
   "cell_type": "code",
   "execution_count": 3,
   "metadata": {},
   "outputs": [
    {
     "name": "stdout",
     "output_type": "stream",
     "text": [
      "477019\n",
      "477019\n"
     ]
    }
   ],
   "source": [
    "print(len(train_q))\n",
    "print(len(train_a))"
   ]
  },
  {
   "cell_type": "code",
   "execution_count": 4,
   "metadata": {},
   "outputs": [
    {
     "name": "stdout",
     "output_type": "stream",
     "text": [
      "390\n",
      "古时候 ， 有 个人 用 “ 青出于蓝而胜于蓝 ” 的 形象 比喻 来 说明 学习 没有止境 和 后来居上 的 道理 ， 劝导 人们 要 进行 广博 地 学习 ， 要 发扬 “ 锲而不舍 ” 、 “ 用心 一 也 ” 的 精神 ， 反对 死记硬背 、 不求甚解 和 杂 而 不 专 。 在 如何 治理 国家 问题 上 ， 他 则 提出 了 “ 重法 爱民 ” 、 “ 赏罚严明 ” 的 政治纲领 。 他 认为 ， 统治阶级 治理 国家 和 统治 人民 ， 一定 要 有 一套 严密 的 政治 法令 和 赏罚 措施 。 对 人民 ， 在 没有 给 它 利益 之前 就 从 它 身上 谋取 利益 ， 不如 先给 人民 利益 然后 再 从 人民 中 索取 利益 更 有利 ； 不 爱护 它 就 重用 它 ， 不如 先 爱护 它 然后 再 重用 它 更为 有效 。 这个 人 是 ____\n"
     ]
    }
   ],
   "source": [
    "print(len(max(train_q, key=len)))\n",
    "print(max(train_q, key=len))"
   ]
  },
  {
   "cell_type": "code",
   "execution_count": 5,
   "metadata": {},
   "outputs": [
    {
     "name": "stdout",
     "output_type": "stream",
     "text": [
      "9969\n",
      "第 2 任 二世 皇帝 嬴 胡亥 bc209 — bc207 年 在位 3 年 第 3 任 三世 皇帝 秦王 嬴子 婴 bc207 年 在位 数月 大秦 王朝 共 2 帝 3 传 立国 15 年 西楚 王朝 bc206 — bc202 年 首都 彭城 ( 江苏 铜山 ) 第 1 任西 楚霸王 项羽 bc206 — bc202 年 在位 5 年 西楚 王朝 共 1 王立国 5 年 大汉 王朝 bc206 — 公元 220 年 西汉 王朝 bc206 — 公元 9 年 首都 长安 ( 陕西 西安 ) 第 1 任高帝 刘邦 bc202 — bc194 年 在位 9 年 第 2 任惠帝 刘盈 bc194 — bc187 年 在位 7 年 第 3 任 废帝 刘恭 bc187 年 高后 吕雉 摄政 第 4 任 废帝 刘弘 bc187 年 高后 吕雉 摄政 bc187 — bc179 年 摄政 8 年 第 5 任 文帝 刘恒 bc179 — bc156 年 在位 23 年 第 6 任景帝 刘启 bc156 — bc140 年 在位 16 年 第 7 任武帝 刘彻 bc140 — bc86 年 在位 54 年 第 8 任 昭帝 刘弗陵 bc86 — bc73 年 在位 14 年 第 9 任 少帝 刘贺 bc73 年 第 10 任宣帝 刘询 bc73 — bc48 年 在位 26 年 第 11 任元帝 刘 奭 bc48 — bc32 年 在位 16 年 第 12 任 成帝 刘骜 bc32 — bc6 年 在位 26 年 第 13 任 哀帝 刘欣 bc6 — 公元 1 年 在位 6 年 第 14 任平帝 刘箕子 公元 1 — 6 年 在位 5 年 第 15 任 孺子 刘婴 公元 6 — 9 年 王莽 摄政 4 年 西汉 王朝 end 西汉 王朝 共 15 帝 立国 215 年 新 王朝 公元 9 — 23 年 首都 长安 ( 陕西 西安 ) 第 1 任新 皇帝 王莽 9 — 23 年 在位 15 年 新 王朝 共 1 帝 立国 15 年 玄汉 王朝 23 — 25 年 首都 长安 第 1 任 更始帝 刘玄 23 — 25 年 在位 3 年 玄汉 王朝 共 1 帝 立国 3 年 东汉 王朝 25 — 220 年 首都 洛阳 第 1 任 光武帝 刘秀 25 — 58 年 在位 34 年 （ 原名 刘绣 ） 第 2 任明 帝刘庄 58 — 76 年 在位 18 年 第 3 任章帝 刘 炟 76 — 89 年 在位 14 年 第 4 任和帝 刘肇 89 — 106 年 在位 18 年 第 5 任殇帝 刘隆 106 年 第 6 任安 帝 刘祜 107 — 125 年 在位 19 年 第 7 任婴帝 刘懿 126 年 第 8 任 顺帝 刘保 126 — 145 年 在位 20 年 第 9 任冲帝 刘炳 145 年 第 10 任质帝 刘缵 146 年 第 11 任桓帝 刘志 147 — 168 年 在位 22 年 第 12 任灵帝 刘宏 168 — 190 年 在位 23 年 第 13 任 少帝 刘辩 190 年 第 14 任 献帝 刘协 190 — 220 年 在位 31 年 东汉 王朝 end 东汉 王朝 共 14 帝 立国 196 年 两汉 共 29 帝 立国 411 年 end 三国 时代 （ 魏蜀吴 ） 220 — 280 年 历时 61 年 曹魏 帝国 220 — 265 年 首都 许昌 迁回 洛阳 第 1 任 文帝 曹丕 220 — 227 年 在位 8 年 第 2 任明帝 曹睿 227 — 240 年 在位 14 年 第 3 任齐王 曹芳 240 — 254 年 在位 15 年 第 4 任 高贵 乡 公曹髦 254 — 260 年 在位 7 年 第 5 任元帝 曹奂 260 — 265 年 在位 6 年 曹魏 帝国 共 5 帝 立国 46 年 end 蜀汉 帝国 221 — 263 年 首都 成都 第 1 任昭烈帝 刘备 221 — 223 年 在位 3 年 第 2 任 后主 刘禅 223 — 263 年 在位 41 年 蜀汉 帝国 共 2 帝 立国 43 年 end 东吴 帝国 222 — 280 年 首都 建业 （ 江苏 南京 ） 第 1 任 大帝 孙权 222 — 252 年 在位 31 年 第 2 任 会稽王 孙亮 252 — 258 年 在位 7 年 第 3 任景帝 孙休 258 — 264 年 在位 7 年 第 4 任 乌程侯 孙皓 264 — 280 年 在位 17 年 东吴 帝国 共 4 帝 立国 59 年 end 大晋 王朝 265 — 420 年 立国 156 年 西晋 王朝 265 — 317 年 首都 洛阳 第 1 任武帝 司马炎 265 — 290 年 在位 26 年 第 2 任惠帝 司马 衷 290 — 307 年 在位 18 年 公元 291 年 西晋 爆发 八王 之乱 八王 之一 汝南 王司马亮 八王 之二 楚王 司马玮 八王 之三 赵 王司马伦 八王 之四齐 王司马 冏 八王 之 五 长沙 王司马 乂 八王 之 六 成都 王司马 颍八王 之 七 河间王 司马 颙 八王 之 八 东海 王司马越 晋自 五马 （ 司马 ） 渡江 天下 遂 分为 二 ， 又 有 五胡乱华 十九 国 并立 第 3 任赵 王司马伦 301 年 在位 四个 月 大 分裂 时代 公元 304 — 589 年 共 286 年 其中 五胡乱华 十九 国 时代 304 — 439 年 共 136 年 第 4 任惠帝 司马 衷 290 — 307 年 第 5 任怀帝 司马炽 307 — 313 年 在位 7 年 公元 311 年八王 之乱 end 第 6 任愍帝 司马邺 313 — 317 年 在位 5 年 西晋 王朝 共 6 帝 立国 53 年 东晋 王朝 317 — 420 年 首都 建康 （ 江苏 南京 ） 第 7 任元帝 司马 睿 317 — 322 年 在位 6 年 第 8 任明帝 司马 绍 322 — 325 年 在位 4 年 第 9 任 成帝 司马衍 325 — 343 年 在位 19 年 第 10 任康帝 司马 岳 343 — 345 年 在位 2 年 第 11 任穆帝 司马 聃 345 — 362 年 在位 18 年 第 12 任 哀帝 司马 丕 362 — 366 年 在位 5 年 第 13 任 废帝 司马 奕 366 — 371 年 在位 6 年 （ 海西 公 ） 第 14 任 简文帝 司马 昱 371 — 373 年 在位 3 年 第 15 任孝武帝 司马曜 373 — 397 年 在位 25 年 第 16 任安 帝 司马 德宗 397 — 419 年 在位 23 年 第 17 任恭帝 司马 德文 419 — 420 年 在位 2 年 东晋 王朝 共 11 帝 立国 104 年 两晋 共 17 帝 立国 156 年 end 五胡乱华 十九 国 五胡 指 ： 匈奴 〈 羯 〉 鲜卑 羌 〈 氐 〉 实为 三胡 ， 依 古老 的 说法 ， 他们 都 是 黄帝 姬 轩辕 的 后裔 十九 国 ： 开国 年 国别 开国 君主 民族 首都 亡国 年 年数 亡于 304 成汉 帝国 李雄 氐 成都 34744 晋 304 汉赵 帝国 刘渊 匈奴 平阳 （ 山西 临汾 ） 32926 后赵 319 后赵 帝国 石勒 羯 襄国 （ 河北 邢台 ） 35133 冉魏 320 前凉 王国 张茂汉 姑藏 （ 甘肃 武威 ） 37657 前秦 337 前燕 帝国 慕容 皝 鲜卑 邺 城 （ 河南 临漳 ） 37034 前秦 350 冉魏 帝国 冉 闵汉邺 城 （ 河南 临漳 ） 3523 前燕 351 前秦 帝国 苻 健 氐 长安 39444 西秦 384 后燕 帝国 慕容垂 鲜卑 中山 （ 河北 定县 ） 40724 北燕 384 西燕 帝国 慕容泓 鲜卑 长子 （ 山西 长子 ） 39411 前燕 384 后秦 帝国 姚苌 羌 长安 41734 晋 385 西秦 王国 乞 伏国仁 鲜卑 金城 （ 甘肃兰州 ） 43139 胡夏 386 后凉 王国 吕光 氐 姑藏 （ 甘肃 武威 ） 40318 后秦 397 南凉王 国 秃发 乌孤 鲜卑 乐都 （ 青海 乐都 ） 41418 西秦 397 北凉王 国 1 任 段业 汉 张掖 （ 甘肃 张掖 ） 43943 北魏 2 任 沮 渠蒙逊 匈奴 398 南燕 帝国 慕容德 鲜卑 广固 （ 山东 益都 ） 41013 晋 400 西凉 王国 李 暠 汉 酒泉 （ 甘肃 酒泉 ） 42122 北凉 405 西蜀 王国 谯 纵汉 成都 4139 晋 407 胡夏 帝国 赫连 勃勃 匈奴 统万 （ 陕西 横山 ） 43125 吐谷浑 407 北燕 帝国 1 任 高云 朝鲜 和 龙 （ 热河 朝阳 ） 43630 北魏 2 任 冯跋汉 和 龙 （ 热河 朝阳 ） 南北朝 时代 439 — 589 年 共 151 年 南朝 刘宋 帝国 420 — 479 年 首都 建康 （ 江苏 南京 ） 第 1 任武帝 刘裕 420 — 422 年 在位 3 年 第 2 任 少帝 刘义符 423 — 424 年 在位 2 年 第 3 任 文帝 刘义隆 424 — 453 年 在位 30 年 第 4 任 废帝 刘劭 453 — 454 年 在位 1 年 第 5 任孝武帝 刘骏 454 — 465 年 在位 12 年 第 6 任前 废帝 刘子业 465 年 第 7 任明帝 刘 彧 465 — 473 年 在位 9 年 第 8 任 后废帝 刘昱 473 — 477 年 在位 5 年 第 9 任 顺帝 刘准 477 — 479 年 在位 3 年 刘宋 帝国 共 9 帝 立国 60 年 end 南朝 萧齐 帝国 479 — 502 年 首都 建康 （ 江苏 南京 ） 第 1 任高帝 萧道成 479 — 483 年 在位 5 年 第 2 任武帝 萧赜 483 — 494 年 在位 12 年 第 3 任郁林王 萧昭业 494 年 第 4 任 海陵王 萧昭文 494 年 第 5 任明帝 萧鸾 494 — 499 年 在位 6 年 第 6 任 东昏侯 萧 宝卷 499 — 501 年 在位 3 年 第 7 任和帝 萧宝融 501 — 502 年 在位 2 年 萧齐 帝国 共 7 帝 立国 24 年 end 南朝 萧梁 帝国 502 — 557 年 首都 建康 （ 江苏 南京 ） 第 1 任武帝 萧衍 502 — 550 年 在位 49 年 第 2 任 简文帝 萧纲 550 — 551 年 在位 1 年 第 3 任 豫章 王萧栋 551 年 8 月 — 552 年 第 4 任 武陵 王萧纪 552 年 4 — 11 月 第 5 任元帝 萧绎 552 - — 554 年 在位 3 年 第 6 任贞阳侯 萧渊明 555 年 5 — 10 月 第 7 任敬帝 萧方智 555 — 557 年 在位 3 年 萧梁 帝国 共 4 帝 7 传 立国 56 年 end 后梁 王国 第 1 任萧察 557 后梁 王国 第末任 萧岿 587 立国 30 年 共 86 年 end 南朝 陈陈 帝国 557 — 589 年 首都 建康 （ 江苏 南京 ） 第 1 任武帝 陈霸先 557 — 560 年 在位 4 年 第 2 任 文帝 陈蒨 560 — 567 年 在位 8 年 第 3 任 废帝 陈伯宗 567 — 569 年 在位 2 年 第 4 任宣帝 陈顼 569 — 583 年 在位 15 年 第 5 任 后主 陈叔宝 583 — 589 年 在位 7 年 陈陈 帝国 共 5 帝 立国 33 年 end 北朝 北魏 帝国 386 — 534 年 首都 平城 （ 山西大同 ） 迁 洛阳 第 1 任道 武帝 拓拔 珪 386 - — 409 年 在位 24 年 第 2 任 明元帝 拓拨 嗣 409 — 424 年 在位 16 年 第 3 任 太武帝 拓拨焘 424 — 452 年 在位 29 年 第 4 任 南安 王拓 拨余 452 年 第 5 任 文成帝 拓拨浚 452 — 466 年 在位 15 年 第 6 任献 文帝 拓拨弘 466 — 471 年 在位 6 年 第 7 任 孝文帝 拓拨宏 （ 改 汉姓 元宏 ） 471 - — 500 年 在位 30 年 第 8 任宣 武帝元 恪 500 — 516 年 在位 17 年 第 9 任 孝明帝 元诩 516 — 528 年 在位 13 年 第 10 任孝 庄帝元 子 攸 528 — 530 年 在位 3 年 第 11 任长 广王元晔 530 — 531 年 第 12 任节 闵帝 元 恭 531 年 第 13 任 安定 王 元朗 531 年 第 14 任孝 武帝元 修 （ 攸 月 ） 532 — 534 年 在位 3 年 北魏 帝国 共 11 帝 14 传 立国 150 年 end 北朝 东魏 帝国 534 — 550 年 首都 邺 城 （ 河南 临漳 ） 第 1 任 孝静帝 元善见 534 — 550 年 在位 17 年 东魏 帝国 共 1 帝 立国 17 年 end 北朝 西魏 帝国 535 — 556 年 首都 长安 第 1 任 文帝 元宝 炬 535 — 551 年 在位 17 年 第 2 任 废帝 元钦 551 — 553 年 在位 2 年 第 3 任恭帝 拓拨廓 554 — 556 年 在位 3 年 西魏 帝国 共 3 帝 立国 22 年 end 北魏 东魏 西魏 合称 后魏 共计 15 帝 18 传 立国 171 年 北朝 北齐 帝国 550 — 577 年 首都 邺 城 （ 河南 临漳 ） 第 1 任 文宣帝 高洋 550 — 559 年 在位 10 年 第 2 任 废帝 高殷 559 年 10 月 — 560 年 在位 1 年 第 3 任孝 昭帝 高演 560 / 8 — 561 / 11 月 在位 1 年 第 4 任 武成帝 高湛 561 — 564 年 在位 3 年 第 5 任 后主 高纬 565 / 4 — 576 年 在位 11 年 第 6 任 幼主 高恒 576 — 577 年 在位 1 年 北齐 帝国 共 6 帝 立国 28 年 end 北朝 北周 帝国 557 — 581 年 首都 长安 第 1 任孝 闵帝 宇文觉 557 年 第 2 任明帝 宇文毓 557 — 560 年 在位 3 年 第 3 任武帝 宇文邕 560 — 578 年 在位 18 年 第 4 任宣帝 宇文 （ 文武 贝 ） 578 / 6 — 579 年 第 5 任静帝 宇文阐 579 / 2 — 581 / 2 月 在位 2 年 北周 帝国 共 5 帝 立国 25 年 end 隋 国公 杨坚 第二次 统一 全 中国 结束 了 长达 286 年 之久 的 大 分裂 时代 大 隋 王朝 581 — 619 年 首都 大兴 （ 长安 ） （ 陕西 西安 ） 第 1 任 高祖 文 皇帝 杨坚 581 — 604 年 在位 24 年 （ 有 著名 的 开皇 之治 ） 第 2 任 炀帝 杨广 604 — 618 年 在位 15 年 （ 当 2 年 太上皇 ） 世宗 孝成 皇帝 杨昭 第 3 任恭帝 杨侑 617 — 618 年 在位 2 年 第 4 任 秦王 帝杨浩 618 年 第 5 任皇泰帝 杨 侗 618 — 619 年 在位 2 年 大 隋 王朝 共 5 帝 立国 39 年 大唐 王朝 618 — 907 年 首都 长安 第 1 任 高祖 李渊 618 — 626 年 在位 9 年 第 2 任 太宗 李世民 626 — 649 年 在位 23 年 第 3 任高 宗李治 649 — 683 年 在位 35 年 第 4 任中 宗李显 683 年 12 月 在位 数月 第 5 任睿 宗李旦 684 年 2 月 在位 数月 唐朝 立国 73 年 武后 武曌 武则天 临朝 执政 7 年 公元 690 年灭 唐朝 建立 自己 的 武周 王朝 武周 王朝 690 — 705 年 首都 长安 第 1 任女帝 武曌 武则天 690 — 705 年 在位 16 年 武周 王朝 共 1 帝 立国 16 年 唐朝 复辟 第 6 任中 宗李显 705 — 709 年 在位 5 年 第 7 任 少帝 李重茂 710 年 6 月 在位 几日 第 8 任睿 宗李旦 710 年 6 月 — 712 年 在位 3 年 第 9 任玄宗 李隆基 712 — 756 年 在位 45 年 第 10 任肃宗 李亨 756 — 762 年 在位 6 年 第 11 任 代宗 李豫 762 — 779 年 在位 17 年 第 12 任德 宗李适 779 — 804 年 在位 25 年 第 13 任顺宗 李诵 805 / 1 — 8 月 第 14 任 宪宗 李纯 805 — 820 年 在位 15 年 第 15 任 穆宗 李恒 820 — 824 年 在位 4 年 第 16 任敬宗 李湛 824 — 826 年 在位 2 年 第 17 任 文宗 李昂 826 — 840 年 在位 14 年 第 18 任武 宗李炎 840 — 846 年 在位 6 年 第 19 任宣宗 李忱 846 — 859 年 在位 14 年 第 20 任懿宗 李 漼 859 — 873 年 在位 15 年 第 21 任 僖宗 李 儇 873 — 888 年 在位 16 年 第 22 年 昭宗 李晔 888 — 900 年 在位 13 年 第 23 任 废帝 李裕 900 — 901 年 第 24 任 昭宗 李晔 901 — 904 年 在位 4 年 第 25 年 哀帝 李 柷 904 — 907 年 在位 4 年 唐 王朝 共 25 帝 立国 276 年 end 小 分裂 时代 公元 907 — 979 年 共 73 年 五代 十一 国 时代 907 — 979 年 共 73 年 区分 国别 开国 帝王 民族 首都 兴亡 年数 亡于 五代 后梁 帝国 朱温 汉 大梁 （ 河南 开封 ） 907 — 92317 后唐 （ 辽 帝国 ） 916 — 1218303 后唐 帝国 李存勖 沙陀 人 洛阳 923 — 93614 后晋 后晋 帝国 石敬瑭 沙陀 人 大梁 936 — 94611 辽国 后汉 帝国 刘知远 沙陀 人 大梁 947 — 97933 大宋 后周 帝国 郭威汉 大梁 951 — 96010 大宋 （ 宋 帝国 ） 960 — 1279320 十一 国岐 王国 李茂贞 汉 凤翔 （ 陕西 凤翔 ） 907 — 92418 后唐 南 楚王 国马 殷汉 潭州 （ 湖南 长沙 ） 907 — 95145 南唐 吴越王 国钱 镠 汉 钱塘 （ 浙江 杭州 ） 907 — 97872 大 宋前 蜀王 国王 建汉 成都 907 — 92519 后唐 南吴 帝国 杨渭汉 扬州 （ 江苏 江都 ） 910 — 93728 南唐 桀燕 帝国 刘守光 汉 幽州 （ 北京 ） 911 — 9133 后唐 南汉 帝国 刘岩汉 广州 917 — 97155 大宋 南平 王国 高季昌汉 江陵 924 — 96340 大宋 闽 帝国 王延钧汉 福州 933 — 94513 南唐 后 蜀 帝国 孟知祥 汉 成都 934 — 96532 大宋 南唐 帝国 徐知 诰 沙陀 人 金陵 （ 南京 ） 937 — 97539 大宋 宋州 节度使 赵匡胤 第 3 次 统一 全 中国 结束 了 73 年 的 小 分裂 时代 大宋 王朝 960 — 1279 年 共 320 年 北宋 王朝 960 — 1127 首都 开封 第 1 任 太祖 赵匡胤 960 — 976 年 在位 17 年 第 2 任 太宗赵 匡义 976 — 997 年 在位 22 年 第 3 任真 宗赵恒 997 — 1022 年 在位 25 年 第 4 任仁宗 赵祯 1022 — 1063 年 在位 41 年 第 5 任 英宗 赵曙 1063 — 1067 年 在位 4 年 第 6 任 神宗 赵顼 1067 — 1085 年 在位 18 年 第 7 任哲 宗赵煦 1085 — 1100 年 在位 15 年 第 8 任徽 宗赵佶 1100 — 1125 年 在位 25 年 第 9 任钦 宗赵桓 1125 — 1127 年 在位 2 年 北宋 王朝 共 9 帝 立国 168 年 南宋 王朝 1127 — 1279 首都 杭州 第 10 任高 宗赵构 1127 — 1162 年 在位 36 年 第 11 任 孝宗 赵昚 1162 — 1189 年 在位 27 年 第 12 任光宗 赵敦 1189 — 1194 年 在位 5 年 第 13 任 宁宗 赵扩 1194 — 1224 年 在位 30 年 第 14 年 理宗 赵昀 1224 — 1264 年 在位 40 年 第 15 任度 宗 赵 禥 1264 — 1274 年 在位 10 年 第 16 任恭帝 赵显 1274 — 1276 年 在位 1 年 第 17 任端 宗 赵 昰 1276 — 1278 年 在位 2 年 第 18 任末帝 赵昺 1278 — 1279 年 在位 2 年 南宋 王朝 共 9 帝 立国 153 年 两 宋共 18 帝 立国 320 年 end 蒙古 帝国 （ 大 元 王朝 ） 1206 — 1368 年 首都 大都 （ 北京 ） 第 1 任 太祖 成吉思汗 孛 儿 只斤 铁木真 1206 — 1227 年 在位 22 年 第 2 任 监国 孛 儿 只斤 拖雷 1228 — 1229 年 在位 1 年 第 3 任 太宗 孛 儿 只斤 窝阔台 1229 — 1241 年 在位 13 年 第 4 任乃马 真后 1242 — 1246 年 在位 5 年 第 5 任定 宗 孛 儿 只斤 贵 由 1246 — 1249 年 在位 3 年 第 6 任 海迷失 后 1249 — 1251 年 在位 3 年 第 7 任 宪宗 孛 儿 只 蒙哥 1251 — 1259 年 在位 9 年 第 8 任 世祖 孛 儿 只斤 忽必烈 1259 — 1271 年 改 国号 元 — 1294 年 在位 36 年 第 9 任成宗 孛 儿 只斤 铁穆耳 1294 — 1307 年 在位 13 年 第 10 任武宗 孛 儿 只斤 海山 1307 — 1311 年 在位 4 年 第 11 任仁宗 孛 儿 只斤 爱育 黎拔力 八达 1311 — 1320 年 在位 9 年 第 12 任 英宗 孛 儿 只斤 硕德八 剌 1320 — 1323 年 在位 3 年 第 13 任 泰定帝 孛 儿 只斤 也 孙铁木 儿 1323 — 1328 年 在位 5 年 第 14 任天 顺帝 孛 儿 只斤 阿速 吉八 1328 年 9 月 第 15 任 文宗 孛 儿 只斤 图帖 睦 耳 1328 — 1329 年 在位 1 年 第 16 任明宗 孛 儿 只斤 和 世 （ 王束 ） 1329 年 1 月 第 17 任 文宗 孛 儿 只斤 图帖 睦 耳 1329 — 1332 年 第 18 任 宁宗 孛 儿 只斤 懿 璘 质班 1332 年 10 月 在位 第 19 任 顺帝 孛 儿 只斤 妥 懽 帖 睦尔 1333 — 1368 年 在位 36 年 蒙古 帝国 共 15 帝 19 传 立国 136 年大元 王朝 1271 — 1368 年 北迁 共 立国 98 年 end 大 明王朝 1368 — 1644 年 首都北京 第 1 任 太祖 朱元璋 1368 — 1398 年 在位 31 年 第 2 任惠帝 朱允 炆 1398 — 1402 年 在位 4 年 第 3 任 成祖朱 棣 1402\n"
     ]
    }
   ],
   "source": [
    "print(len(max(train_a, key=len)))\n",
    "print(max(train_a, key=len))"
   ]
  },
  {
   "cell_type": "markdown",
   "metadata": {},
   "source": [
    "### 测试数据"
   ]
  },
  {
   "cell_type": "code",
   "execution_count": 6,
   "metadata": {},
   "outputs": [],
   "source": [
    "id2label = {}\n",
    "sample_path = 'submit_sample.txt'\n",
    "with open(sample_path) as f:\n",
    "    for line in f.readlines():\n",
    "        pro = line.split(',')\n",
    "        id = int(pro[0])\n",
    "        label = pro[1]\n",
    "        id2label[id] = label\n",
    "\n",
    "# load test data\n",
    "test_path = 'test_data_sample.json'\n",
    "with open(test_path, 'r') as f:\n",
    "    test = json.load(f)\n",
    "\n",
    "test_q = []\n",
    "test_a = []\n",
    "test_y = []\n",
    "test_id = []\n",
    "for item in test:\n",
    "    q = ' '.join(jieba.cut(item['question']))\n",
    "    for passage in item['passages']:\n",
    "        a = ' '.join(jieba.cut(passage['content']))\n",
    "        test_q.append(q)\n",
    "        test_a.append(a)\n",
    "        test_id.append(passage['passage_id'])\n",
    "        test_y.append(id2label[passage['passage_id']])"
   ]
  },
  {
   "cell_type": "code",
   "execution_count": 7,
   "metadata": {},
   "outputs": [
    {
     "name": "stdout",
     "output_type": "stream",
     "text": [
      "1586\n",
      "1586\n"
     ]
    }
   ],
   "source": [
    "print(len(test_q))\n",
    "print(len(test_a))"
   ]
  },
  {
   "cell_type": "markdown",
   "metadata": {},
   "source": [
    "### 词嵌入处理"
   ]
  },
  {
   "cell_type": "code",
   "execution_count": 8,
   "metadata": {},
   "outputs": [],
   "source": [
    "MAX_SEQUENCE_LENGTH = 200 # 问题/答案 上限200个词\n",
    "EMBEDDING_DIM = 100 # 100d 词向量\n",
    "CN_PUNC = '！？｡＂＃＄％＆＇（）＊＋，－／：；＜＝＞＠［＼］＾＿｀｛｜｝～｟｠｢｣､、〃》「」『』【】〔〕〖〗〘〙〚〛〜〝〞〟〰〾〿–—‘’‛“”„‟…‧﹏.'\n",
    "EN_PUNC = '!\"#$%&\\'()*+,-./:;<=>?@[\\\\]^_`{|}~'\n",
    "PUNC = CN_PUNC + EN_PUNC"
   ]
  },
  {
   "cell_type": "code",
   "execution_count": 9,
   "metadata": {},
   "outputs": [
    {
     "name": "stderr",
     "output_type": "stream",
     "text": [
      "/home/ubuntu/anaconda3/lib/python3.6/site-packages/h5py/__init__.py:36: FutureWarning: Conversion of the second argument of issubdtype from `float` to `np.floating` is deprecated. In future, it will be treated as `np.float64 == np.dtype(float).type`.\n",
      "  from ._conv import register_converters as _register_converters\n",
      "Using TensorFlow backend.\n"
     ]
    },
    {
     "name": "stdout",
     "output_type": "stream",
     "text": [
      "Found 554700 unique tokens.\n",
      "Shape of data tensor: (477019, 200)\n",
      "Shape of data tensor: (477019, 200)\n",
      "Shape of data tensor: (1586, 200)\n",
      "Shape of data tensor: (1586, 200)\n"
     ]
    }
   ],
   "source": [
    "# https://keras-cn-docs.readthedocs.io/zh_CN/latest/blog/word_embedding/\n",
    "from keras.preprocessing.text import Tokenizer\n",
    "from keras.preprocessing.sequence import pad_sequences\n",
    "\n",
    "# Tokenizer\n",
    "texts = train_q + train_a + test_q + test_a\n",
    "tokenizer = Tokenizer(filters=PUNC)\n",
    "tokenizer.fit_on_texts(texts)\n",
    "word_index = tokenizer.word_index\n",
    "print('Found %s unique tokens.' % len(tokenizer.word_index))\n",
    "\n",
    "# Sequences\n",
    "sequences_train_q = tokenizer.texts_to_sequences(train_q)\n",
    "sequences_train_a = tokenizer.texts_to_sequences(train_a)\n",
    "sequences_test_q = tokenizer.texts_to_sequences(test_q)\n",
    "sequences_test_a = tokenizer.texts_to_sequences(test_a)\n",
    "\n",
    "# Padding\n",
    "data_train_q = pad_sequences(sequences_train_q, maxlen=MAX_SEQUENCE_LENGTH)\n",
    "data_train_a = pad_sequences(sequences_train_a, maxlen=MAX_SEQUENCE_LENGTH)\n",
    "data_test_q = pad_sequences(sequences_test_q, maxlen=MAX_SEQUENCE_LENGTH)\n",
    "data_test_a = pad_sequences(sequences_test_a, maxlen=MAX_SEQUENCE_LENGTH)\n",
    "\n",
    "print('Shape of data tensor:', data_train_q.shape)\n",
    "print('Shape of data tensor:', data_train_a.shape)\n",
    "print('Shape of data tensor:', data_test_q.shape)\n",
    "print('Shape of data tensor:', data_test_a.shape)"
   ]
  },
  {
   "cell_type": "code",
   "execution_count": 10,
   "metadata": {},
   "outputs": [
    {
     "name": "stdout",
     "output_type": "stream",
     "text": [
      "Found 782241 word vectors.\n"
     ]
    }
   ],
   "source": [
    "embeddings_index = {}\n",
    "with open('../../word2vec/wiki.vector') as f:\n",
    "    for line in f:\n",
    "        values = line.split()\n",
    "        word = values[0]\n",
    "        coefs = np.asarray(values[1:], dtype='float32')\n",
    "        embeddings_index[word] = coefs\n",
    "\n",
    "print('Found %s word vectors.' % len(embeddings_index))"
   ]
  },
  {
   "cell_type": "code",
   "execution_count": 11,
   "metadata": {},
   "outputs": [],
   "source": [
    "embedding_matrix = np.zeros((len(word_index) + 1, EMBEDDING_DIM))\n",
    "for word, i in word_index.items():\n",
    "    embedding_vector = embeddings_index.get(word)\n",
    "    if embedding_vector is not None:\n",
    "        # words not found in embedding index will be all-zeros.\n",
    "        embedding_matrix[i] = embedding_vector"
   ]
  },
  {
   "cell_type": "markdown",
   "metadata": {},
   "source": [
    "### 保存"
   ]
  },
  {
   "cell_type": "code",
   "execution_count": 12,
   "metadata": {},
   "outputs": [],
   "source": [
    "token_path = 'tokenizer.pkl'\n",
    "pickle.dump(tokenizer, open(token_path, 'wb'))\n",
    "\n",
    "np.save('train_q.npy', data_train_q)\n",
    "np.save('train_a.npy', data_train_a)\n",
    "np.save('train_y.npy', train_y)\n",
    "np.save('test_q.npy', data_test_q)\n",
    "np.save('test_a.npy', data_test_a)\n",
    "np.save('test_y.npy', test_y)\n",
    "np.save('test_id.npy', test_id)\n",
    "np.save('embedding_matrix.npy', embedding_matrix)"
   ]
  }
 ],
 "metadata": {
  "kernelspec": {
   "display_name": "Python 3",
   "language": "python",
   "name": "python3"
  },
  "language_info": {
   "codemirror_mode": {
    "name": "ipython",
    "version": 3
   },
   "file_extension": ".py",
   "mimetype": "text/x-python",
   "name": "python",
   "nbconvert_exporter": "python",
   "pygments_lexer": "ipython3",
   "version": "3.6.4"
  }
 },
 "nbformat": 4,
 "nbformat_minor": 2
}
