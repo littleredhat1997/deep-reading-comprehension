{
 "cells": [
  {
   "cell_type": "code",
   "execution_count": 1,
   "metadata": {},
   "outputs": [
    {
     "name": "stderr",
     "output_type": "stream",
     "text": [
      "/home/ubuntu/anaconda3/lib/python3.6/site-packages/h5py/__init__.py:36: FutureWarning: Conversion of the second argument of issubdtype from `float` to `np.floating` is deprecated. In future, it will be treated as `np.float64 == np.dtype(float).type`.\n",
      "  from ._conv import register_converters as _register_converters\n",
      "Using TensorFlow backend.\n"
     ]
    }
   ],
   "source": [
    "import tensorflow as tf\n",
    "from keras import backend as K\n",
    "\n",
    "# import os\n",
    "# os.environ[\"CUDA_VISIBLE_DEVICES\"] = \"0\" # GPU 列表\n",
    "\n",
    "G = 4 # GPU 数量\n",
    "gpu_options = tf.GPUOptions(per_process_gpu_memory_fraction=0.8)\n",
    "session = tf.Session(config=tf.ConfigProto(gpu_options=gpu_options, allow_soft_placement=True))\n",
    "K.set_session(session)"
   ]
  },
  {
   "cell_type": "code",
   "execution_count": 2,
   "metadata": {},
   "outputs": [],
   "source": [
    "MAX_SEQUENCE_LENGTH = 200 # 问题/答案 上限200个词\n",
    "MAX_NB_WORDS = 20000 # 字典 上限20000个词\n",
    "EMBEDDING_DIM = 100 # 100d 词向量"
   ]
  },
  {
   "cell_type": "markdown",
   "metadata": {},
   "source": [
    "### 数据预处理"
   ]
  },
  {
   "cell_type": "code",
   "execution_count": 3,
   "metadata": {},
   "outputs": [
    {
     "name": "stderr",
     "output_type": "stream",
     "text": [
      "Building prefix dict from the default dictionary ...\n",
      "Loading model from cache /tmp/jieba.cache\n",
      "Loading model cost 0.673 seconds.\n",
      "Prefix dict has been built succesfully.\n"
     ]
    }
   ],
   "source": [
    "import json\n",
    "import jieba\n",
    "\n",
    "train_path = 'data/train_data_sample.json'\n",
    "with open(train_path, 'r') as f:\n",
    "    train = json.load(f)\n",
    "\n",
    "questions = []\n",
    "answers = []\n",
    "labels = []\n",
    "for item in train:\n",
    "    q = ' '.join(jieba.cut(item['question']))\n",
    "    for passage in item['passages']:\n",
    "        a = ' '.join(jieba.cut(passage['content']))\n",
    "        questions.append(q)\n",
    "        answers.append(a)\n",
    "        labels.append(passage['label'])"
   ]
  },
  {
   "cell_type": "code",
   "execution_count": 4,
   "metadata": {},
   "outputs": [
    {
     "name": "stdout",
     "output_type": "stream",
     "text": [
      "Found 221387 unique tokens.\n",
      "Shape of data tensor: (80084, 200)\n",
      "Shape of data tensor: (80084, 200)\n",
      "Shape of label tensor: (80084, 2)\n"
     ]
    }
   ],
   "source": [
    "# https://keras-cn-docs.readthedocs.io/zh_CN/latest/blog/word_embedding/\n",
    "import numpy as np\n",
    "from keras.preprocessing.text import Tokenizer\n",
    "from keras.preprocessing.sequence import pad_sequences\n",
    "from keras.utils.np_utils import to_categorical\n",
    "\n",
    "# tokenizer\n",
    "texts = questions + answers\n",
    "tokenizer = Tokenizer(num_words=MAX_NB_WORDS, lower=False)\n",
    "tokenizer.fit_on_texts(texts)\n",
    "word_index = tokenizer.word_index\n",
    "\n",
    "# sequences\n",
    "sequences_q = tokenizer.texts_to_sequences(questions)\n",
    "sequences_a = tokenizer.texts_to_sequences(answers)\n",
    "\n",
    "# padding\n",
    "data_q = pad_sequences(sequences_q, maxlen=MAX_SEQUENCE_LENGTH)\n",
    "data_a = pad_sequences(sequences_a, maxlen=MAX_SEQUENCE_LENGTH)\n",
    "\n",
    "# label one hot\n",
    "y_true = to_categorical(labels, num_classes=2)\n",
    "\n",
    "print('Found %s unique tokens.' % len(word_index))\n",
    "print('Shape of data tensor:', data_q.shape)\n",
    "print('Shape of data tensor:', data_a.shape)\n",
    "print('Shape of label tensor:', y_true.shape)"
   ]
  },
  {
   "cell_type": "code",
   "execution_count": 5,
   "metadata": {},
   "outputs": [],
   "source": [
    "import pickle\n",
    "\n",
    "token_path = 'model/tokenizer-blstm-word2vec.pkl'\n",
    "pickle.dump(tokenizer, open(token_path, 'wb'))"
   ]
  },
  {
   "cell_type": "markdown",
   "metadata": {},
   "source": [
    "### Embedding layer设置"
   ]
  },
  {
   "cell_type": "markdown",
   "metadata": {},
   "source": [
    "接下来，我们从 word2vec 文件中解析出每个词和它所对应的词向量，并用字典的方式存储"
   ]
  },
  {
   "cell_type": "code",
   "execution_count": 6,
   "metadata": {},
   "outputs": [
    {
     "name": "stdout",
     "output_type": "stream",
     "text": [
      "Found 782240 word vectors.\n"
     ]
    }
   ],
   "source": [
    "embeddings_index = {}\n",
    "with open('model/wiki.vector') as f:\n",
    "    for line in f:\n",
    "        values = line.split()\n",
    "        word = values[0]\n",
    "        coefs = np.asarray(values[1:], dtype='float32')\n",
    "        embeddings_index[word] = coefs\n",
    "\n",
    "print('Found %s word vectors.' % len(embeddings_index))"
   ]
  },
  {
   "cell_type": "markdown",
   "metadata": {},
   "source": [
    "此时，我们可以根据得到的字典生成上文所定义的词向量矩阵"
   ]
  },
  {
   "cell_type": "code",
   "execution_count": 7,
   "metadata": {},
   "outputs": [],
   "source": [
    "embedding_matrix = np.zeros((len(word_index) + 1, EMBEDDING_DIM))\n",
    "for word, i in word_index.items():\n",
    "    embedding_vector = embeddings_index.get(word)\n",
    "    if embedding_vector is not None:\n",
    "        # words not found in embedding index will be all-zeros.\n",
    "        embedding_matrix[i] = embedding_vector"
   ]
  },
  {
   "cell_type": "markdown",
   "metadata": {},
   "source": [
    "现在我们将这个词向量矩阵加载到Embedding层中，注意，我们设置trainable=False使得这个编码层不可再训练。"
   ]
  },
  {
   "cell_type": "code",
   "execution_count": 8,
   "metadata": {},
   "outputs": [],
   "source": [
    "# from keras.layers import Embedding\n",
    "\n",
    "# embedding_layer = Embedding(len(word_index) + 1,\n",
    "#                             EMBEDDING_DIM,\n",
    "#                             weights=[embedding_matrix],\n",
    "#                             input_length=MAX_SEQUENCE_LENGTH,\n",
    "#                             trainable=False)\n",
    "\n",
    "# embedding_layer = Embedding(len(word_index) + 1,\n",
    "#                             EMBEDDING_DIM,\n",
    "#                             input_length=MAX_SEQUENCE_LENGTH)"
   ]
  },
  {
   "cell_type": "markdown",
   "metadata": {},
   "source": [
    "### 网络结构"
   ]
  },
  {
   "cell_type": "code",
   "execution_count": 9,
   "metadata": {},
   "outputs": [
    {
     "name": "stdout",
     "output_type": "stream",
     "text": [
      "_________________________________________________________________\n",
      "Layer (type)                 Output Shape              Param #   \n",
      "=================================================================\n",
      "merge_1 (Merge)              (None, 64)                0         \n",
      "_________________________________________________________________\n",
      "dense_1 (Dense)              (None, 2)                 130       \n",
      "=================================================================\n",
      "Total params: 44,446,690\n",
      "Trainable params: 169,090\n",
      "Non-trainable params: 44,277,600\n",
      "_________________________________________________________________\n"
     ]
    },
    {
     "name": "stderr",
     "output_type": "stream",
     "text": [
      "/home/ubuntu/anaconda3/lib/python3.6/site-packages/ipykernel_launcher.py:28: UserWarning: The `Merge` layer is deprecated and will be removed after 08/2017. Use instead layers from `keras.layers.merge`, e.g. `add`, `concatenate`, etc.\n"
     ]
    }
   ],
   "source": [
    "from keras.models import Sequential\n",
    "from keras.layers import Dense, Dropout, Merge, LSTM, Input\n",
    "from keras.layers.embeddings import Embedding\n",
    "from keras.layers.wrappers import Bidirectional\n",
    "\n",
    "QA_EMBED_SIZE = 64\n",
    "DROPOUT_RATE = 0.3\n",
    "\n",
    "q = Sequential()\n",
    "q.add(Embedding(len(word_index) + 1,\n",
    "                            EMBEDDING_DIM,\n",
    "                            weights=[embedding_matrix],\n",
    "                            input_length=MAX_SEQUENCE_LENGTH,\n",
    "                            trainable=False))\n",
    "q.add(Bidirectional(LSTM(QA_EMBED_SIZE, return_sequences=False), merge_mode=\"sum\"))\n",
    "q.add(Dropout(DROPOUT_RATE))\n",
    "\n",
    "a = Sequential()\n",
    "a.add(Embedding(len(word_index) + 1,\n",
    "                            EMBEDDING_DIM,\n",
    "                            weights=[embedding_matrix],\n",
    "                            input_length=MAX_SEQUENCE_LENGTH,\n",
    "                            trainable=False))\n",
    "a.add(Bidirectional(LSTM(QA_EMBED_SIZE, return_sequences=False), merge_mode=\"sum\"))\n",
    "a.add(Dropout(DROPOUT_RATE))\n",
    "\n",
    "model = Sequential()\n",
    "model.add(Merge([q, a], mode=\"sum\"))\n",
    "model.add(Dense(2, activation=\"softmax\"))\n",
    "\n",
    "model.summary()"
   ]
  },
  {
   "cell_type": "code",
   "execution_count": 10,
   "metadata": {},
   "outputs": [
    {
     "data": {
      "image/png": "[encoded data removed]",
      "text/plain": [
       "<IPython.core.display.Image object>"
      ]
     },
     "execution_count": 10,
     "metadata": {},
     "output_type": "execute_result"
    }
   ],
   "source": [
    "# 模型可视化 https://keras-cn.readthedocs.io/en/latest/other/visualization/\n",
    "from keras.utils import plot_model\n",
    "from IPython import display\n",
    "\n",
    "# pip install pydot=1.2.3\n",
    "# pip install pydot-ng\n",
    "# sudo apt-get install graphviz\n",
    "plot_model(model, to_file=\"img/model-blstm-word2vec.png\", show_shapes=True)\n",
    "display.Image('img/model-blstm-word2vec.png')"
   ]
  },
  {
   "cell_type": "markdown",
   "metadata": {},
   "source": [
    "### 训练"
   ]
  },
  {
   "cell_type": "code",
   "execution_count": 11,
   "metadata": {},
   "outputs": [
    {
     "name": "stdout",
     "output_type": "stream",
     "text": [
      "Train on 72075 samples, validate on 8009 samples\n",
      "Epoch 1/5\n",
      "72075/72075 [==============================] - 563s 8ms/step - loss: 0.5618 - acc: 0.7288 - val_loss: 0.5246 - val_acc: 0.7428\n",
      "Epoch 2/5\n",
      "72075/72075 [==============================] - 561s 8ms/step - loss: 0.5126 - acc: 0.7506 - val_loss: 0.5147 - val_acc: 0.7517\n",
      "Epoch 3/5\n",
      "72075/72075 [==============================] - 562s 8ms/step - loss: 0.4864 - acc: 0.7672 - val_loss: 0.5118 - val_acc: 0.7443\n",
      "Epoch 4/5\n",
      "72075/72075 [==============================] - 564s 8ms/step - loss: 0.4653 - acc: 0.7789 - val_loss: 0.5094 - val_acc: 0.7482\n",
      "Epoch 5/5\n",
      "72075/72075 [==============================] - 501s 7ms/step - loss: 0.4459 - acc: 0.7906 - val_loss: 0.5130 - val_acc: 0.7474\n"
     ]
    },
    {
     "data": {
      "text/plain": [
       "<keras.callbacks.History at 0x7f3d0ddb9ac8>"
      ]
     },
     "execution_count": 11,
     "metadata": {},
     "output_type": "execute_result"
    }
   ],
   "source": [
    "from keras.callbacks import EarlyStopping, ModelCheckpoint, TensorBoard\n",
    "from keras.utils import multi_gpu_model\n",
    "\n",
    "EPOCHS = 5\n",
    "BATCH_SIZE = 64 * G\n",
    "VALIDATION_SPLIT = 0.1 # 10% 验证集\n",
    "\n",
    "early_stopping = EarlyStopping(monitor='val_loss', patience=10)\n",
    "model_path = 'model/model-blstm-word2vec.h5'\n",
    "model_checkpoint = ModelCheckpoint(model_path, save_best_only=True, save_weights_only=True)\n",
    "tensorboard = TensorBoard('model/tflog-blstm-word2vec', write_graph=True, write_images=True)\n",
    "\n",
    "model = multi_gpu_model(model)\n",
    "\n",
    "model.compile(loss='categorical_crossentropy',\n",
    "                  optimizer='adam',\n",
    "                  metrics=['accuracy'])\n",
    "\n",
    "model.fit([data_q, data_a], y_true, epochs=EPOCHS, batch_size=BATCH_SIZE, \n",
    "          validation_split=VALIDATION_SPLIT, shuffle=True, \n",
    "          callbacks=[early_stopping, model_checkpoint, tensorboard])"
   ]
  },
  {
   "cell_type": "markdown",
   "metadata": {},
   "source": [
    "### 预测"
   ]
  },
  {
   "cell_type": "code",
   "execution_count": 12,
   "metadata": {},
   "outputs": [],
   "source": [
    "# load tokenizer\n",
    "# token_path = 'model/tokenizer-blstm-word2vec.pkl'\n",
    "# _tokenizer = pickle.load(open(token_path, 'rb'))\n",
    "\n",
    "# load model\n",
    "# model_path = 'model/model-blstm-word2vec.h5'\n",
    "# _model = get_model()\n",
    "# _model.load_weights(model_path)\n",
    "\n",
    "# load test data\n",
    "test_path = 'data/test_data_sample.json'\n",
    "with open(test_path, 'r') as f:\n",
    "    test = json.load(f)\n",
    "\n",
    "questions = []\n",
    "answers = []\n",
    "ids = []\n",
    "for item in test:\n",
    "    q = ' '.join(jieba.cut(item['question']))\n",
    "    for passage in item['passages']:\n",
    "        a = ' '.join(jieba.cut(passage['content']))\n",
    "        questions.append(q)\n",
    "        answers.append(a)\n",
    "        ids.append(passage['passage_id'])"
   ]
  },
  {
   "cell_type": "code",
   "execution_count": 13,
   "metadata": {},
   "outputs": [
    {
     "name": "stdout",
     "output_type": "stream",
     "text": [
      "Shape of data tensor: (1586, 200)\n",
      "Shape of data tensor: (1586, 200)\n"
     ]
    }
   ],
   "source": [
    "sequences_q = tokenizer.texts_to_sequences(questions)\n",
    "sequences_a = tokenizer.texts_to_sequences(answers)\n",
    "\n",
    "test_q = pad_sequences(sequences_q, maxlen=MAX_SEQUENCE_LENGTH)\n",
    "test_a = pad_sequences(sequences_a, maxlen=MAX_SEQUENCE_LENGTH)\n",
    "\n",
    "print('Shape of data tensor:', test_q.shape)\n",
    "print('Shape of data tensor:', test_a.shape)"
   ]
  },
  {
   "cell_type": "code",
   "execution_count": 14,
   "metadata": {},
   "outputs": [
    {
     "name": "stdout",
     "output_type": "stream",
     "text": [
      "1586/1586 [==============================] - 9s 6ms/step\n"
     ]
    }
   ],
   "source": [
    "predicts = model.predict([test_q, test_a], batch_size=64, verbose=1)\n",
    "\n",
    "# argmax\n",
    "with open('predict/predict-blstm-word2vec-1.txt', 'w') as f:\n",
    "    for i in range(len(ids)):\n",
    "        f.write('%d,%s\\n' % (ids[i], np.argmax(predicts[i])))\n",
    "\n",
    "# max\n",
    "with open('predict/predict-blstm-word2vec-2.txt', 'w') as f:\n",
    "    for i in range(len(ids)):\n",
    "        f.write('%d,%s\\n' % (ids[i], np.max(predicts[i])))"
   ]
  }
 ],
 "metadata": {
  "kernelspec": {
   "display_name": "Python 3",
   "language": "python",
   "name": "python3"
  },
  "language_info": {
   "codemirror_mode": {
    "name": "ipython",
    "version": 3
   },
   "file_extension": ".py",
   "mimetype": "text/x-python",
   "name": "python",
   "nbconvert_exporter": "python",
   "pygments_lexer": "ipython3",
   "version": "3.6.4"
  }
 },
 "nbformat": 4,
 "nbformat_minor": 2
}
