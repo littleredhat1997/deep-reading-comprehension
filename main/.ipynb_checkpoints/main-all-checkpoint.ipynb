{
 "cells": [
  {
   "cell_type": "code",
   "execution_count": 1,
   "metadata": {},
   "outputs": [
    {
     "name": "stderr",
     "output_type": "stream",
     "text": [
      "/home/ubuntu/anaconda3/lib/python3.6/site-packages/h5py/__init__.py:36: FutureWarning: Conversion of the second argument of issubdtype from `float` to `np.floating` is deprecated. In future, it will be treated as `np.float64 == np.dtype(float).type`.\n",
      "  from ._conv import register_converters as _register_converters\n",
      "Using TensorFlow backend.\n"
     ]
    }
   ],
   "source": [
    "import tensorflow as tf\n",
    "from keras import backend as K\n",
    "\n",
    "import os\n",
    "os.environ[\"CUDA_VISIBLE_DEVICES\"] = \"0, 1, 2, 3\" # GPU 列表\n",
    "\n",
    "G = 4 # GPU 数量\n",
    "gpu_options = tf.GPUOptions(per_process_gpu_memory_fraction=0.8)\n",
    "session = tf.Session(config=tf.ConfigProto(gpu_options=gpu_options, allow_soft_placement=True))\n",
    "K.set_session(session)"
   ]
  },
  {
   "cell_type": "code",
   "execution_count": 2,
   "metadata": {},
   "outputs": [],
   "source": [
    "MAX_SEQUENCE_LENGTH = 200 # 问题/答案 上限200个词\n",
    "MAX_NB_WORDS = 20000 # 字典 上限20000个词\n",
    "EMBEDDING_DIM = 100 # 100d 词向量"
   ]
  },
  {
   "cell_type": "markdown",
   "metadata": {},
   "source": [
    "### 数据预处理"
   ]
  },
  {
   "cell_type": "code",
   "execution_count": 3,
   "metadata": {},
   "outputs": [
    {
     "name": "stderr",
     "output_type": "stream",
     "text": [
      "Building prefix dict from the default dictionary ...\n",
      "Loading model from cache /tmp/jieba.cache\n",
      "Loading model cost 0.898 seconds.\n",
      "Prefix dict has been built succesfully.\n"
     ]
    }
   ],
   "source": [
    "import json\n",
    "import jieba\n",
    "\n",
    "train_path = 'data/train_data_sample.json'\n",
    "with open(train_path, 'r') as f:\n",
    "    train = json.load(f)\n",
    "\n",
    "questions = []\n",
    "trueAnswers = []\n",
    "falseAnswers = []\n",
    "for item in train:\n",
    "    q = ' '.join(jieba.cut(item['question']))\n",
    "    for passage in item['passages']:\n",
    "        a = ' '.join(jieba.cut(passage['content']))\n",
    "        label = passage['label']\n",
    "        if label == 1:\n",
    "            trueAnswers.append(a)\n",
    "        else:\n",
    "            falseAnswers.append(a)\n",
    "    if len(trueAnswers) < len(falseAnswers):\n",
    "        trueAnswers.extend([trueAnswers[-1]] * (len(falseAnswers) - len(trueAnswers)))\n",
    "        questions.extend([q] * (len(falseAnswers) - len(questions)))\n",
    "    else:    \n",
    "        falseAnswers.extend([falseAnswers[-1]] * (len(trueAnswers) - len(falseAnswers)))\n",
    "        questions.extend([q] * (len(trueAnswers) - len(questions)))"
   ]
  },
  {
   "cell_type": "code",
   "execution_count": 4,
   "metadata": {},
   "outputs": [
    {
     "name": "stdout",
     "output_type": "stream",
     "text": [
      "60959\n",
      "60959\n",
      "60959\n"
     ]
    }
   ],
   "source": [
    "print(len(questions))\n",
    "print(len(trueAnswers))\n",
    "print(len(falseAnswers))"
   ]
  },
  {
   "cell_type": "code",
   "execution_count": 5,
   "metadata": {},
   "outputs": [
    {
     "name": "stdout",
     "output_type": "stream",
     "text": [
      "Found 221387 unique tokens.\n",
      "Shape of data tensor: (60959, 200)\n",
      "Shape of data tensor: (60959, 200)\n",
      "Shape of data tensor: (60959, 200)\n"
     ]
    }
   ],
   "source": [
    "# https://keras-cn-docs.readthedocs.io/zh_CN/latest/blog/word_embedding/\n",
    "import numpy as np\n",
    "from keras.preprocessing.text import Tokenizer\n",
    "from keras.preprocessing.sequence import pad_sequences\n",
    "\n",
    "# tokenizer\n",
    "texts = questions + trueAnswers + falseAnswers\n",
    "tokenizer = Tokenizer(num_words=MAX_NB_WORDS, lower=False)\n",
    "tokenizer.fit_on_texts(texts)\n",
    "word_index = tokenizer.word_index\n",
    "\n",
    "# sequences\n",
    "sequences_q = tokenizer.texts_to_sequences(questions)\n",
    "sequences_a1 = tokenizer.texts_to_sequences(trueAnswers)\n",
    "sequences_a2 = tokenizer.texts_to_sequences(falseAnswers)\n",
    "\n",
    "# padding\n",
    "data_q = pad_sequences(sequences_q, maxlen=MAX_SEQUENCE_LENGTH)\n",
    "data_a1 = pad_sequences(sequences_a1, maxlen=MAX_SEQUENCE_LENGTH)\n",
    "data_a2 = pad_sequences(sequences_a2, maxlen=MAX_SEQUENCE_LENGTH)\n",
    "\n",
    "print('Found %s unique tokens.' % len(word_index))\n",
    "print('Shape of data tensor:', data_q.shape)\n",
    "print('Shape of data tensor:', data_a1.shape)\n",
    "print('Shape of data tensor:', data_a2.shape)"
   ]
  },
  {
   "cell_type": "code",
   "execution_count": 6,
   "metadata": {},
   "outputs": [],
   "source": [
    "import pickle\n",
    "\n",
    "token_path = 'model/tokenizer-all.pkl'\n",
    "pickle.dump(tokenizer, open(token_path, 'wb'))"
   ]
  },
  {
   "cell_type": "markdown",
   "metadata": {},
   "source": [
    "### Embedding layer设置"
   ]
  },
  {
   "cell_type": "markdown",
   "metadata": {},
   "source": [
    "接下来，我们从 word2vec 文件中解析出每个词和它所对应的词向量，并用字典的方式存储"
   ]
  },
  {
   "cell_type": "code",
   "execution_count": 7,
   "metadata": {},
   "outputs": [
    {
     "name": "stdout",
     "output_type": "stream",
     "text": [
      "Found 782241 word vectors.\n"
     ]
    }
   ],
   "source": [
    "embeddings_index = {}\n",
    "with open('../word2vec/wiki.vector') as f:\n",
    "    for line in f:\n",
    "        values = line.split()\n",
    "        word = values[0]\n",
    "        coefs = np.asarray(values[1:], dtype='float32')\n",
    "        embeddings_index[word] = coefs\n",
    "\n",
    "print('Found %s word vectors.' % len(embeddings_index))"
   ]
  },
  {
   "cell_type": "markdown",
   "metadata": {},
   "source": [
    "此时，我们可以根据得到的字典生成上文所定义的词向量矩阵"
   ]
  },
  {
   "cell_type": "code",
   "execution_count": 8,
   "metadata": {},
   "outputs": [],
   "source": [
    "embedding_matrix = np.zeros((len(word_index) + 1, EMBEDDING_DIM))\n",
    "for word, i in word_index.items():\n",
    "    embedding_vector = embeddings_index.get(word)\n",
    "    if embedding_vector is not None:\n",
    "        # words not found in embedding index will be all-zeros.\n",
    "        embedding_matrix[i] = embedding_vector"
   ]
  },
  {
   "cell_type": "markdown",
   "metadata": {},
   "source": [
    "现在我们将这个词向量矩阵加载到Embedding层中，注意，我们设置trainable=False使得这个编码层不可再训练。"
   ]
  },
  {
   "cell_type": "code",
   "execution_count": 9,
   "metadata": {},
   "outputs": [],
   "source": [
    "from keras.layers import Embedding\n",
    "\n",
    "embedding_layer = Embedding(len(word_index) + 1,\n",
    "                            EMBEDDING_DIM,\n",
    "                            weights=[embedding_matrix],\n",
    "                            input_length=MAX_SEQUENCE_LENGTH,\n",
    "                            trainable=False)\n",
    "\n",
    "# embedding_layer = Embedding(len(word_index) + 1,\n",
    "#                             EMBEDDING_DIM,\n",
    "#                             input_length=MAX_SEQUENCE_LENGTH)"
   ]
  },
  {
   "cell_type": "markdown",
   "metadata": {},
   "source": [
    "### 网络结构"
   ]
  },
  {
   "cell_type": "markdown",
   "metadata": {},
   "source": [
    "Triplet loss: 稍微拉开正确与错误答案的差距\n",
    "\n",
    "Loss = max(0, margin + cos(q,Awrong) − cos(q,Aright))\n",
    "\n",
    "![alt text](img/triplet-loss.png \"title\")"
   ]
  },
  {
   "cell_type": "code",
   "execution_count": 60,
   "metadata": {},
   "outputs": [],
   "source": [
    "from keras.models import Model\n",
    "from keras.layers import Dense, Dropout, Merge, LSTM, Input, Lambda, dot\n",
    "from keras.layers.embeddings import Embedding\n",
    "from keras.layers.wrappers import Bidirectional\n",
    "\n",
    "QA_EMBED_SIZE = 64\n",
    "MARGIN = 0.1\n",
    "\n",
    "lstm_encoder = LSTM(QA_EMBED_SIZE)\n",
    "# lstm_encoder = Bidirectional(LSTM(QA_EMBED_SIZE, return_sequences=True), merge_mode=\"sum\")\n",
    "def encode(input):\n",
    "    return lstm_encoder(embedding_layer(input))\n",
    "\n",
    "q_input = Input(shape=(None,))\n",
    "a_right = Input(shape=(None,))\n",
    "a_wrong = Input(shape=(None,))\n",
    "\n",
    "q_encoded = encode(q_input)\n",
    "a_right_encoded = encode(a_right)\n",
    "a_wrong_encoded = encode(a_wrong)\n",
    "\n",
    "q_encoded = Dense(QA_EMBED_SIZE)(q_encoded)\n",
    "\n",
    "####\n",
    "right_cos = dot([q_encoded, a_right_encoded], -1, normalize=True)\n",
    "wrong_cos = dot([q_encoded, a_wrong_encoded], -1, normalize=True)\n",
    "loss = Lambda(lambda x: K.relu(MARGIN + x[0] - x[1]))([wrong_cos, right_cos])\n",
    "model_train = Model(inputs=[q_input, a_right, a_wrong], outputs=loss)\n",
    "\n",
    "####\n",
    "# model_q_encoder = Model(inputs=q_input, outputs=q_encoded)\n",
    "# model_a_encoder = Model(inputs=a_right, outputs=a_right_encoded)\n",
    "model_test = Model(inputs=[q_input, a_right], outputs=right_cos) # share"
   ]
  },
  {
   "cell_type": "code",
   "execution_count": 61,
   "metadata": {},
   "outputs": [
    {
     "data": {
      "image/png": "[encoded data removed]",
      "text/plain": [
       "<IPython.core.display.Image object>"
      ]
     },
     "execution_count": 61,
     "metadata": {},
     "output_type": "execute_result"
    }
   ],
   "source": [
    "# 模型可视化 https://keras-cn.readthedocs.io/en/latest/other/visualization/\n",
    "from keras.utils import plot_model\n",
    "from IPython import display\n",
    "\n",
    "# pip install pydot=1.2.3\n",
    "# pip install pydot-ng\n",
    "# sudo apt-get install graphviz\n",
    "# plot_model(model_train, to_file=\"img/model-all.png\", show_shapes=True)\n",
    "# display.Image('img/model-all.png')\n",
    "\n",
    "plot_model(model_test, to_file=\"img/model-all-2.png\", show_shapes=True)\n",
    "display.Image('img/model-all-2.png')"
   ]
  },
  {
   "cell_type": "markdown",
   "metadata": {},
   "source": [
    "### 训练"
   ]
  },
  {
   "cell_type": "code",
   "execution_count": null,
   "metadata": {},
   "outputs": [],
   "source": [
    "from keras.callbacks import EarlyStopping, ModelCheckpoint, TensorBoard\n",
    "from keras.utils import multi_gpu_model\n",
    "\n",
    "EPOCHS = 1\n",
    "BATCH_SIZE = 64 * G\n",
    "VALIDATION_SPLIT = 0.1 # 10% 验证集\n",
    "\n",
    "early_stopping = EarlyStopping(monitor='val_loss', patience=10)\n",
    "model_path = 'model/model-all.h5'\n",
    "model_checkpoint = ModelCheckpoint(model_path, save_best_only=True, save_weights_only=True)\n",
    "tensorboard = TensorBoard('log/tflog-all', write_graph=True, write_images=True)\n",
    "\n",
    "model_train = multi_gpu_model(model_train)\n",
    "\n",
    "model_train.compile(loss=lambda y_true,y_pred: y_pred,\n",
    "                  optimizer='adam',\n",
    "                  metrics=['accuracy'])\n",
    "\n",
    "# model_q_encoder.compile(optimizer='adam', loss='mse')\n",
    "# model_a_encoder.compile(optimizer='adam', loss='mse')\n",
    "model_test.compile(optimizer='adam', loss='binary_crossentropy', metrics=['accuracy'])\n",
    "\n",
    "model_train.fit([data_q, data_a1, data_a2], [1] * len(data_q), epochs=EPOCHS, batch_size=BATCH_SIZE, \n",
    "          validation_split=VALIDATION_SPLIT, shuffle=True, \n",
    "          callbacks=[early_stopping, model_checkpoint, tensorboard])"
   ]
  },
  {
   "cell_type": "markdown",
   "metadata": {},
   "source": [
    "### 预测"
   ]
  },
  {
   "cell_type": "code",
   "execution_count": 37,
   "metadata": {},
   "outputs": [],
   "source": [
    "# load tokenizer\n",
    "# token_path = 'model/tokenizer-all.pkl'\n",
    "# tokenizer = pickle.load(open(token_path, 'rb'))\n",
    "\n",
    "# load model\n",
    "model_path = 'model/model-all.h5'\n",
    "model.load_weights(model_path)\n",
    "\n",
    "# load test data\n",
    "test_path = 'data/test_data_sample.json'\n",
    "with open(test_path, 'r') as f:\n",
    "    test = json.load(f)\n",
    "\n",
    "questions = []\n",
    "answers = []\n",
    "ids = []\n",
    "for item in test:\n",
    "    q = ' '.join(jieba.cut(item['question']))\n",
    "    for passage in item['passages']:\n",
    "        a = ' '.join(jieba.cut(passage['content']))\n",
    "        questions.append(q)\n",
    "        answers.append(a)\n",
    "        ids.append(passage['passage_id'])"
   ]
  },
  {
   "cell_type": "code",
   "execution_count": 38,
   "metadata": {},
   "outputs": [
    {
     "name": "stdout",
     "output_type": "stream",
     "text": [
      "Shape of data tensor: (1586, 200)\n",
      "Shape of data tensor: (1586, 200)\n"
     ]
    }
   ],
   "source": [
    "sequences_q = tokenizer.texts_to_sequences(questions)\n",
    "sequences_a = tokenizer.texts_to_sequences(answers)\n",
    "\n",
    "test_q = pad_sequences(sequences_q, maxlen=MAX_SEQUENCE_LENGTH)\n",
    "test_a = pad_sequences(sequences_a, maxlen=MAX_SEQUENCE_LENGTH)\n",
    "\n",
    "print('Shape of data tensor:', test_q.shape)\n",
    "print('Shape of data tensor:', test_a.shape)"
   ]
  },
  {
   "cell_type": "code",
   "execution_count": 52,
   "metadata": {},
   "outputs": [
    {
     "name": "stdout",
     "output_type": "stream",
     "text": [
      "1586/1586 [==============================] - 6s 4ms/step\n"
     ]
    }
   ],
   "source": [
    "predicts = model_test.predict([test_q, test_a], batch_size=64, verbose=1)\n",
    "\n",
    "with open('predict/predict-all.txt', 'w') as f:\n",
    "    for i in range(len(ids)):\n",
    "        f.write('%d,%s\\n' % (ids[i], predicts[i][0]))"
   ]
  },
  {
   "cell_type": "code",
   "execution_count": 55,
   "metadata": {},
   "outputs": [
    {
     "data": {
      "text/plain": [
       "array([[0.29639325],\n",
       "       [0.6113518 ],\n",
       "       [0.56425524],\n",
       "       ...,\n",
       "       [0.28987882],\n",
       "       [0.53780615],\n",
       "       [0.72800183]], dtype=float32)"
      ]
     },
     "execution_count": 55,
     "metadata": {},
     "output_type": "execute_result"
    }
   ],
   "source": [
    "predicts"
   ]
  },
  {
   "cell_type": "code",
   "execution_count": 56,
   "metadata": {},
   "outputs": [],
   "source": [
    "y_true = []\n",
    "with open('../main/data/submit_sample.txt', 'r') as f:\n",
    "    for line in f.readlines():\n",
    "        pro = line.strip().split(',')\n",
    "        y_true.append(int(pro[1]))"
   ]
  },
  {
   "cell_type": "code",
   "execution_count": 57,
   "metadata": {},
   "outputs": [
    {
     "data": {
      "text/plain": [
       "[0, 0, 0, 0, 1, 0, 0, 0, 0, 0]"
      ]
     },
     "execution_count": 57,
     "metadata": {},
     "output_type": "execute_result"
    }
   ],
   "source": [
    "y_true[0:10]"
   ]
  },
  {
   "cell_type": "code",
   "execution_count": 59,
   "metadata": {},
   "outputs": [
    {
     "name": "stdout",
     "output_type": "stream",
     "text": [
      "747\n",
      "0.47099621689785626\n"
     ]
    }
   ],
   "source": [
    "num = 0\n",
    "for i in range(len(y_true)):\n",
    "    if y_true[i] == 0 and predicts[i] < 0.5: num += 1\n",
    "    if y_true[i] == 1 and predicts[i] >= 0.5: num += 1\n",
    "print(num)\n",
    "print(num / len(y_true))"
   ]
  }
 ],
 "metadata": {
  "kernelspec": {
   "display_name": "Python 3",
   "language": "python",
   "name": "python3"
  },
  "language_info": {
   "codemirror_mode": {
    "name": "ipython",
    "version": 3
   },
   "file_extension": ".py",
   "mimetype": "text/x-python",
   "name": "python",
   "nbconvert_exporter": "python",
   "pygments_lexer": "ipython3",
   "version": "3.6.4"
  }
 },
 "nbformat": 4,
 "nbformat_minor": 2
}
