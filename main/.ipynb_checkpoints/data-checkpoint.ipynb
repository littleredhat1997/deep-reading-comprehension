{
 "cells": [
  {
   "cell_type": "code",
   "execution_count": 1,
   "metadata": {},
   "outputs": [],
   "source": [
    "MAX_SEQUENCE_LENGTH = 200 # 问题/答案 上限200个词\n",
    "EMBEDDING_DIM = 100 # 100d 词向量"
   ]
  },
  {
   "cell_type": "markdown",
   "metadata": {},
   "source": [
    "### 数据预处理"
   ]
  },
  {
   "cell_type": "code",
   "execution_count": 2,
   "metadata": {},
   "outputs": [],
   "source": [
    "import json\n",
    "import jieba"
   ]
  },
  {
   "cell_type": "code",
   "execution_count": 3,
   "metadata": {},
   "outputs": [
    {
     "name": "stderr",
     "output_type": "stream",
     "text": [
      "Building prefix dict from the default dictionary ...\n",
      "Loading model from cache /tmp/jieba.cache\n",
      "Loading model cost 0.889 seconds.\n",
      "Prefix dict has been built succesfully.\n"
     ]
    }
   ],
   "source": [
    "# load train data\n",
    "train_path = 'data/train_data_sample.json'\n",
    "with open(train_path, 'r') as f:\n",
    "    train = json.load(f)\n",
    "\n",
    "train_q = []\n",
    "train_a = []\n",
    "train_y = []\n",
    "for item in train:\n",
    "    q = ' '.join(jieba.cut(item['question']))\n",
    "    for passage in item['passages']:\n",
    "        a = ' '.join(jieba.cut(passage['content']))\n",
    "        train_q.append(q)\n",
    "        train_a.append(a)\n",
    "        train_y.append(passage['label'])"
   ]
  },
  {
   "cell_type": "code",
   "execution_count": 4,
   "metadata": {},
   "outputs": [],
   "source": [
    "id2label = {}\n",
    "sample_path = 'data/submit_sample.txt'\n",
    "with open(sample_path) as f:\n",
    "    for line in f.readlines():\n",
    "        pro = line.split(',')\n",
    "        id = int(pro[0])\n",
    "        label = pro[1]\n",
    "        id2label[id] = label\n",
    "\n",
    "# load test data\n",
    "test_path = 'data/test_data_sample.json'\n",
    "with open(test_path, 'r') as f:\n",
    "    test = json.load(f)\n",
    "\n",
    "test_q = []\n",
    "test_a = []\n",
    "test_y = []\n",
    "test_id = []\n",
    "for item in test:\n",
    "    q = ' '.join(jieba.cut(item['question']))\n",
    "    for passage in item['passages']:\n",
    "        a = ' '.join(jieba.cut(passage['content']))\n",
    "        test_q.append(q)\n",
    "        test_a.append(a)\n",
    "        id = passage['passage_id']\n",
    "        test_id.append(id)\n",
    "        test_y.append(id2label[id])"
   ]
  },
  {
   "cell_type": "code",
   "execution_count": 5,
   "metadata": {},
   "outputs": [
    {
     "name": "stderr",
     "output_type": "stream",
     "text": [
      "/home/ubuntu/anaconda3/lib/python3.6/site-packages/h5py/__init__.py:36: FutureWarning: Conversion of the second argument of issubdtype from `float` to `np.floating` is deprecated. In future, it will be treated as `np.float64 == np.dtype(float).type`.\n",
      "  from ._conv import register_converters as _register_converters\n",
      "Using TensorFlow backend.\n"
     ]
    },
    {
     "name": "stdout",
     "output_type": "stream",
     "text": [
      "Found 220464 unique tokens.\n",
      "Shape of data tensor: (80084, 200)\n",
      "Shape of data tensor: (80084, 200)\n",
      "Shape of data tensor: (1586, 200)\n",
      "Shape of data tensor: (1586, 200)\n"
     ]
    }
   ],
   "source": [
    "# https://keras-cn-docs.readthedocs.io/zh_CN/latest/blog/word_embedding/\n",
    "import numpy as np\n",
    "from keras.preprocessing.text import Tokenizer\n",
    "from keras.preprocessing.sequence import pad_sequences\n",
    "\n",
    "# tokenizer\n",
    "texts = train_q + train_a + test_q + test_a\n",
    "tokenizer = Tokenizer()\n",
    "tokenizer.fit_on_texts(texts)\n",
    "word_index = tokenizer.word_index\n",
    "print('Found %s unique tokens.' % len(tokenizer.word_index))\n",
    "\n",
    "# sequences\n",
    "sequences_train_q = tokenizer.texts_to_sequences(train_q)\n",
    "sequences_train_a = tokenizer.texts_to_sequences(train_a)\n",
    "sequences_test_q = tokenizer.texts_to_sequences(test_q)\n",
    "sequences_test_a = tokenizer.texts_to_sequences(test_a)\n",
    "\n",
    "# padding\n",
    "data_train_q = pad_sequences(sequences_train_q, maxlen=MAX_SEQUENCE_LENGTH)\n",
    "data_train_a = pad_sequences(sequences_train_a, maxlen=MAX_SEQUENCE_LENGTH)\n",
    "data_test_q = pad_sequences(sequences_test_q, maxlen=MAX_SEQUENCE_LENGTH)\n",
    "data_test_a = pad_sequences(sequences_test_a, maxlen=MAX_SEQUENCE_LENGTH)\n",
    "\n",
    "print('Shape of data tensor:', data_train_q.shape)\n",
    "print('Shape of data tensor:', data_train_a.shape)\n",
    "print('Shape of data tensor:', data_test_q.shape)\n",
    "print('Shape of data tensor:', data_test_a.shape)"
   ]
  },
  {
   "cell_type": "markdown",
   "metadata": {},
   "source": [
    "### 处理词向量"
   ]
  },
  {
   "cell_type": "code",
   "execution_count": 6,
   "metadata": {},
   "outputs": [
    {
     "name": "stdout",
     "output_type": "stream",
     "text": [
      "Found 782241 word vectors.\n"
     ]
    }
   ],
   "source": [
    "embeddings_index = {}\n",
    "with open('../word2vec/wiki.vector') as f:\n",
    "    for line in f:\n",
    "        values = line.split()\n",
    "        word = values[0]\n",
    "        coefs = np.asarray(values[1:], dtype='float32')\n",
    "        embeddings_index[word] = coefs\n",
    "\n",
    "print('Found %s word vectors.' % len(embeddings_index))"
   ]
  },
  {
   "cell_type": "code",
   "execution_count": 7,
   "metadata": {},
   "outputs": [],
   "source": [
    "embedding_matrix = np.zeros((len(word_index) + 1, EMBEDDING_DIM))\n",
    "for word, i in word_index.items():\n",
    "    embedding_vector = embeddings_index.get(word)\n",
    "    if embedding_vector is not None:\n",
    "        # words not found in embedding index will be all-zeros.\n",
    "        embedding_matrix[i] = embedding_vector"
   ]
  },
  {
   "cell_type": "markdown",
   "metadata": {},
   "source": [
    "### 保存"
   ]
  },
  {
   "cell_type": "code",
   "execution_count": 8,
   "metadata": {},
   "outputs": [],
   "source": [
    "import pickle\n",
    "token_path = 'model/tokenizer.pkl'\n",
    "pickle.dump(tokenizer, open(token_path, 'wb'))\n",
    "\n",
    "import numpy as np\n",
    "np.save('data/train_q.npy', data_train_q)\n",
    "np.save('data/train_a.npy', data_train_a)\n",
    "np.save('data/train_y.npy', train_y)\n",
    "np.save('data/test_q.npy', data_test_q)\n",
    "np.save('data/test_a.npy', data_test_a)\n",
    "np.save('data/test_y.npy', test_y)\n",
    "np.save('data/test_id.npy', test_id)\n",
    "np.save('data/embedding_matrix.npy', embedding_matrix)"
   ]
  }
 ],
 "metadata": {
  "kernelspec": {
   "display_name": "Python 3",
   "language": "python",
   "name": "python3"
  },
  "language_info": {
   "codemirror_mode": {
    "name": "ipython",
    "version": 3
   },
   "file_extension": ".py",
   "mimetype": "text/x-python",
   "name": "python",
   "nbconvert_exporter": "python",
   "pygments_lexer": "ipython3",
   "version": "3.6.4"
  }
 },
 "nbformat": 4,
 "nbformat_minor": 2
}
