{
 "cells": [
  {
   "cell_type": "markdown",
   "metadata": {},
   "source": [
    "## 标签"
   ]
  },
  {
   "cell_type": "code",
   "execution_count": 1,
   "metadata": {},
   "outputs": [],
   "source": [
    "y_true = []\n",
    "with open('data/submit_sample.txt', 'r') as f:\n",
    "    for line in f.readlines():\n",
    "        pro = line.strip().split(',')\n",
    "        y_true.append(int(pro[1]))"
   ]
  },
  {
   "cell_type": "code",
   "execution_count": 2,
   "metadata": {},
   "outputs": [
    {
     "name": "stdout",
     "output_type": "stream",
     "text": [
      "1586 [0, 0, 0, 0, 1, 0, 0, 0, 0, 0]\n"
     ]
    }
   ],
   "source": [
    "print(len(y_true), y_true[0:10])"
   ]
  },
  {
   "cell_type": "markdown",
   "metadata": {},
   "source": [
    "## 预测"
   ]
  },
  {
   "cell_type": "code",
   "execution_count": null,
   "metadata": {},
   "outputs": [],
   "source": [
    "import tensorflow as tf\n",
    "from keras import backend as K\n",
    "\n",
    "import os\n",
    "os.environ[\"CUDA_VISIBLE_DEVICES\"] = \"\" # GPU 列表"
   ]
  },
  {
   "cell_type": "code",
   "execution_count": null,
   "metadata": {},
   "outputs": [],
   "source": [
    "import numpy as np\n",
    "test_q = np.load('data/test_q.npy')\n",
    "test_a = np.load('data/test_a.npy')\n",
    "test_y = np.load('data/test_y.npy')\n",
    "test_id = np.load('data/test_id.npy')"
   ]
  },
  {
   "cell_type": "markdown",
   "metadata": {},
   "source": [
    "### 1. FastText"
   ]
  },
  {
   "cell_type": "code",
   "execution_count": null,
   "metadata": {},
   "outputs": [],
   "source": [
    "# load the best model\n",
    "model_path = 'model/FastText.h5'\n",
    "model.load_weights(model_path, by_name=True)\n",
    "predicts = model.predict([test_q, test_a], batch_size=64, verbose=1)\n",
    "\n",
    "with open('predict/FastText.txt', 'w') as f:\n",
    "    for i in range(len(test_id)):\n",
    "        f.write('%d,%s\\n' % (test_id[i], predicts[i][0]))\n",
    "\n",
    "num = 0\n",
    "for i in range(len(y_true)):\n",
    "    if y_true[i] == 0 and predicts[i][0] < 0.5: num += 1\n",
    "    if y_true[i] == 1 and predicts[i][0] >= 0.5: num += 1\n",
    "print('%d / %d = %f' % (num, len(y_true), num / len(y_true)))"
   ]
  },
  {
   "cell_type": "markdown",
   "metadata": {},
   "source": [
    "### 2. CNN_base"
   ]
  },
  {
   "cell_type": "code",
   "execution_count": null,
   "metadata": {},
   "outputs": [],
   "source": [
    "# load the best model\n",
    "model_path = 'model/CNN_base.h5'\n",
    "model.load_weights(model_path, by_name=True)\n",
    "predicts = model.predict([test_q, test_a], batch_size=64, verbose=1)\n",
    "\n",
    "with open('predict/CNN_base.txt', 'w') as f:\n",
    "    for i in range(len(test_id)):\n",
    "        f.write('%d,%s\\n' % (test_id[i], predicts[i][0]))\n",
    "\n",
    "num = 0\n",
    "for i in range(len(y_true)):\n",
    "    if y_true[i] == 0 and predicts[i][0] < 0.5: num += 1\n",
    "    if y_true[i] == 1 and predicts[i][0] >= 0.5: num += 1\n",
    "print('%d / %d = %f' % (num, len(y_true), num / len(y_true)))"
   ]
  },
  {
   "cell_type": "markdown",
   "metadata": {},
   "source": [
    "### 3. CNN"
   ]
  },
  {
   "cell_type": "code",
   "execution_count": null,
   "metadata": {},
   "outputs": [],
   "source": [
    "# load the best model\n",
    "model_path = 'model/CNN.h5'\n",
    "model.load_weights(model_path, by_name=True)\n",
    "predicts = model.predict([test_q, test_a], batch_size=64, verbose=1)\n",
    "\n",
    "with open('predict/CNN.txt', 'w') as f:\n",
    "    for i in range(len(test_id)):\n",
    "        f.write('%d,%s\\n' % (test_id[i], predicts[i][0]))\n",
    "\n",
    "num = 0\n",
    "for i in range(len(y_true)):\n",
    "    if y_true[i] == 0 and predicts[i][0] < 0.5: num += 1\n",
    "    if y_true[i] == 1 and predicts[i][0] >= 0.5: num += 1\n",
    "print('%d / %d = %f' % (num, len(y_true), num / len(y_true)))"
   ]
  },
  {
   "cell_type": "markdown",
   "metadata": {},
   "source": [
    "### 4. LSTM"
   ]
  },
  {
   "cell_type": "code",
   "execution_count": null,
   "metadata": {},
   "outputs": [],
   "source": [
    "# load the best model\n",
    "model_path = 'model/LSTM.h5'\n",
    "model.load_weights(model_path, by_name=True)\n",
    "predicts = model.predict([test_q, test_a], batch_size=64, verbose=1)\n",
    "\n",
    "with open('predict/LSTM.txt', 'w') as f:\n",
    "    for i in range(len(test_id)):\n",
    "        f.write('%d,%s\\n' % (test_id[i], predicts[i][0]))\n",
    "\n",
    "num = 0\n",
    "for i in range(len(y_true)):\n",
    "    if y_true[i] == 0 and predicts[i][0] < 0.5: num += 1\n",
    "    if y_true[i] == 1 and predicts[i][0] >= 0.5: num += 1\n",
    "print('%d / %d = %f' % (num, len(y_true), num / len(y_true)))"
   ]
  },
  {
   "cell_type": "markdown",
   "metadata": {},
   "source": [
    "### 5. Attention"
   ]
  },
  {
   "cell_type": "code",
   "execution_count": null,
   "metadata": {},
   "outputs": [],
   "source": [
    "# load the best model\n",
    "model_path = 'model/Attention.h5'\n",
    "model.load_weights(model_path, by_name=True)\n",
    "predicts = model.predict([test_q, test_a], batch_size=64, verbose=1)\n",
    "\n",
    "with open('predict/Attention.txt', 'w') as f:\n",
    "    for i in range(len(test_id)):\n",
    "        f.write('%d,%s\\n' % (test_id[i], predicts[i][0]))\n",
    "\n",
    "num = 0\n",
    "for i in range(len(y_true)):\n",
    "    if y_true[i] == 0 and predicts[i][0] < 0.5: num += 1\n",
    "    if y_true[i] == 1 and predicts[i][0] >= 0.5: num += 1\n",
    "print('%d / %d = %f' % (num, len(y_true), num / len(y_true)))"
   ]
  }
 ],
 "metadata": {
  "kernelspec": {
   "display_name": "Python 3",
   "language": "python",
   "name": "python3"
  },
  "language_info": {
   "codemirror_mode": {
    "name": "ipython",
    "version": 3
   },
   "file_extension": ".py",
   "mimetype": "text/x-python",
   "name": "python",
   "nbconvert_exporter": "python",
   "pygments_lexer": "ipython3",
   "version": "3.6.4"
  }
 },
 "nbformat": 4,
 "nbformat_minor": 2
}
