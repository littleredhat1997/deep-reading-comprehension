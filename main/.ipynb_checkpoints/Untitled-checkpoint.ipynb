{
 "cells": [
  {
   "cell_type": "markdown",
   "metadata": {},
   "source": [
    "### step1, raw text:  \n",
    "接触LSTM模型不久，简单看了一些相关的论文，还没有动手实现过。然而至今仍然想不通LSTM神经网络究竟是怎么工作的。……"
   ]
  },
  {
   "cell_type": "markdown",
   "metadata": {},
   "source": [
    "### step2, tokenize (中文得分词): \n",
    "    sentence1: 接触 LSTM 模型 不久 ，简单 看了 一些 相关的 论文 ， 还 没有 动手 实现过 。\n",
    "    sentence2: 然而 至今 仍然 想不通 LSTM 神经网络 究竟是 怎么 工作的。\n",
    "    ……"
   ]
  },
  {
   "cell_type": "markdown",
   "metadata": {},
   "source": [
    "### step3, dictionarize:\n",
    "    sentence1: 1 34 21 98 10 23 9 23 \n",
    "    sentence2: 17 12 21 12 8 10 13 79 31 44 9 23 \n",
    "    ……"
   ]
  },
  {
   "cell_type": "markdown",
   "metadata": {},
   "source": [
    "### step4, padding every sentence to fixed length:\n",
    "    sentence1: 1 34 21 98 10 23 9 23 0 0 0 0 0\n",
    "    sentence2: 17 12 21 12 8 10 13 79 31 44 9 23  0\n",
    "    ……"
   ]
  },
  {
   "cell_type": "markdown",
   "metadata": {},
   "source": [
    "### step5, mapping token to an embeddings:\n",
    "    sentence1: \n",
    "    \n",
    "\\begin{array}{ccc} 0.341 & 0.133 & 0.011 &…\\\\ 0.435 & 0.081 & 0.501 &…\\\\ 0.013 & 0.958 & 0.121 &…\\\\ … & … & … &… \\end{array}\n",
    "   \n",
    "    每一列代表一个词向量，词向量维度自行确定；矩阵列数固定为time_step length。\n",
    "    sentence2: \n",
    "    ……"
   ]
  },
  {
   "cell_type": "markdown",
   "metadata": {},
   "source": [
    "![alt text](rnn.jpg \"title\")"
   ]
  },
  {
   "cell_type": "markdown",
   "metadata": {},
   "source": [
    "### step6, feed into RNNs as input:\n",
    "假设 一个RNN的time_step 确定为 l ,则padded sentence length(step5中矩阵列数)固定为 l 。一次RNNs的run只处理一条sentence。每个sentence的每个token的embedding对应了每个时序 t 的输入 I_{i}^{t} 。一次RNNs的run，连续地将整个sentence处理完。"
   ]
  },
  {
   "cell_type": "markdown",
   "metadata": {},
   "source": [
    "### step7, get output:\n",
    "看图，每个time_step都是可以输出当前时序 t 的隐状态 h_{i}^{t} ；但整体RNN的输出 o_{i}^{t} 是在最后一个time_step t=l 时获取，才是完整的最终结果。"
   ]
  },
  {
   "cell_type": "markdown",
   "metadata": {},
   "source": [
    "### step8, further processing with the output:\n",
    "我们可以将output根据分类任务或回归拟合任务的不同，分别进一步处理。比如，传给cross_entropy&softmax进行分类……或者获取每个time_step对应的隐状态 h_{i}^{t} ，做seq2seq 网络……或者搞创新……"
   ]
  }
 ],
 "metadata": {
  "kernelspec": {
   "display_name": "Python 3",
   "language": "python",
   "name": "python3"
  },
  "language_info": {
   "codemirror_mode": {
    "name": "ipython",
    "version": 3
   },
   "file_extension": ".py",
   "mimetype": "text/x-python",
   "name": "python",
   "nbconvert_exporter": "python",
   "pygments_lexer": "ipython3",
   "version": "3.6.4"
  }
 },
 "nbformat": 4,
 "nbformat_minor": 2
}
