{
 "cells": [
  {
   "cell_type": "markdown",
   "metadata": {},
   "source": [
    "## 标签"
   ]
  },
  {
   "cell_type": "code",
   "execution_count": 1,
   "metadata": {},
   "outputs": [
    {
     "name": "stdout",
     "output_type": "stream",
     "text": [
      "448444 [0 0 0 1 0 1 1 0 0 0]\n",
      "448444 [563700 563701 563702 563703 563704 563705 563706 563707 563708 563709]\n"
     ]
    }
   ],
   "source": [
    "import numpy as np\n",
    "\n",
    "y_true = np.load('data/data_y.npy')\n",
    "ids = np.load('data/data_id.npy')\n",
    "\n",
    "print(len(y_true), y_true[0:10])\n",
    "print(len(ids), ids[0:10])"
   ]
  },
  {
   "cell_type": "markdown",
   "metadata": {},
   "source": [
    "## 评估"
   ]
  },
  {
   "cell_type": "code",
   "execution_count": 2,
   "metadata": {},
   "outputs": [],
   "source": [
    "def show(scoreFile):\n",
    "    y = []\n",
    "    with open(scoreFile, 'r') as f:\n",
    "        for line in f.readlines():\n",
    "            pro = line.strip().split(',')\n",
    "            y.append(float(pro[1]))\n",
    "    \n",
    "    num = 0\n",
    "    for i in range(len(y_true)):\n",
    "        if y_true[i] == 0 and y[i] < 0.5: num += 1\n",
    "        if y_true[i] == 1 and y[i] >= 0.5: num += 1\n",
    "    score = num / len(y_true)\n",
    "    \n",
    "    print('%d / %d = %f' % (num, len(y_true), score))\n",
    "    return y, score"
   ]
  },
  {
   "cell_type": "code",
   "execution_count": 3,
   "metadata": {},
   "outputs": [
    {
     "name": "stdout",
     "output_type": "stream",
     "text": [
      "325401 / 448444 = 0.725622\n",
      "348939 / 448444 = 0.778111\n",
      "328202 / 448444 = 0.731868\n",
      "327825 / 448444 = 0.731028\n",
      "331012 / 448444 = 0.738135\n"
     ]
    }
   ],
   "source": [
    "predictFile1 = 'predict/FastText.txt'\n",
    "predictFile2 = 'predict/CNN1.txt'\n",
    "predictFile3 = 'predict/CNN2.txt'\n",
    "predictFile4 = 'predict/BiLSTM.txt'\n",
    "predictFile5 = 'predict/Attention.txt'\n",
    "\n",
    "y1, score1 = show(predictFile1)\n",
    "y2, score2 = show(predictFile2)\n",
    "y3, score3 = show(predictFile3)\n",
    "y4, score4 = show(predictFile4)\n",
    "y5, score5 = show(predictFile5)"
   ]
  },
  {
   "cell_type": "markdown",
   "metadata": {},
   "source": [
    "### 可视化对比"
   ]
  },
  {
   "cell_type": "code",
   "execution_count": 4,
   "metadata": {},
   "outputs": [
    {
     "data": {
      "image/png": "[encoded data removed]",
      "text/plain": [
       "<matplotlib.figure.Figure at 0x7fa1e72da8d0>"
      ]
     },
     "metadata": {},
     "output_type": "display_data"
    }
   ],
   "source": [
    "%matplotlib inline\n",
    "import matplotlib.pyplot as plt\n",
    "import numpy as np\n",
    "\n",
    "name_list = ['FastText', 'CNN1', 'CNN2', 'BiLSTM', 'Attention']\n",
    "score_list = [score1, score2, score3, score4, score5]\n",
    "\n",
    "# 设置柱状图\n",
    "index = np.arange(len(name_list))\n",
    "plt.bar(index, score_list, color='r')\n",
    "for a, b in zip(index, score_list):\n",
    "    plt.text(a, b, '%.3f' % b, ha='center', va= 'bottom',fontsize=12)\n",
    "\n",
    "plt.xlabel('Model')\n",
    "plt.ylabel('Score')\n",
    "plt.xticks(index, name_list)\n",
    "plt.ylim(0.5, 0.9)\n",
    "plt.tight_layout()\n",
    "plt.savefig('img/Score1.png')\n",
    "plt.show()"
   ]
  },
  {
   "cell_type": "markdown",
   "metadata": {},
   "source": [
    "### 模型融合 - 投票"
   ]
  },
  {
   "cell_type": "code",
   "execution_count": 5,
   "metadata": {},
   "outputs": [
    {
     "name": "stdout",
     "output_type": "stream",
     "text": [
      "342151 / 448444 = 0.762974\n"
     ]
    }
   ],
   "source": [
    "num = 0\n",
    "predictFile = 'predict/Vote.txt'\n",
    "y = []\n",
    "for i in range(len(y_true)):\n",
    "    t = 0\n",
    "    f = 0\n",
    "    if y1[i] >= 0.5: t += 1\n",
    "    else: f += 1\n",
    "    if y2[i] >= 0.5: t += 1\n",
    "    else: f += 1\n",
    "    if y3[i] >= 0.5: t += 1\n",
    "    else: f += 1\n",
    "    if y4[i] >= 0.5: t += 1\n",
    "    else: f += 1\n",
    "    if y5[i] >= 0.5: t += 1\n",
    "    else: f += 1\n",
    "    if (y_true[i] == 1 and t >= 3) or (y_true[i] == 0 and f >= 3):\n",
    "        num += 1\n",
    "        y.append(1)\n",
    "    else:\n",
    "        y.append(0)\n",
    "\n",
    "with open(predictFile, 'w') as f:\n",
    "    for i in range(len(ids)):\n",
    "        f.write('%d,%s\\n' % (ids[i], y[i]))\n",
    "\n",
    "score6 = num / len(y_true)\n",
    "print('%d / %d = %f' % (num, len(y_true), score6))"
   ]
  },
  {
   "cell_type": "markdown",
   "metadata": {},
   "source": [
    "### 模型融合 - 平均 (1:1:1:1:1)"
   ]
  },
  {
   "cell_type": "code",
   "execution_count": 6,
   "metadata": {},
   "outputs": [
    {
     "name": "stdout",
     "output_type": "stream",
     "text": [
      "347811 / 448444 = 0.775595\n"
     ]
    }
   ],
   "source": [
    "num = 0\n",
    "predictFile = 'predict/Average.txt'\n",
    "y = []\n",
    "for i in range(len(y_true)):\n",
    "    pred = y1[i] + y2[i] + y3[i] + y4[i] + y5[i]\n",
    "    pred /= 5.0\n",
    "    if (y_true[i] == 0 and pred < 0.5) or (y_true[i] == 1 and pred >= 0.5):\n",
    "        num += 1\n",
    "        y.append(1)\n",
    "    else:\n",
    "        y.append(0)\n",
    "\n",
    "with open(predictFile, 'w') as f:\n",
    "    for i in range(len(ids)):\n",
    "        f.write('%d,%s\\n' % (ids[i], y[i]))\n",
    "\n",
    "score7 = num / len(y_true)\n",
    "print('%d / %d = %f' % (num, len(y_true), score7))"
   ]
  },
  {
   "cell_type": "markdown",
   "metadata": {},
   "source": [
    "### 模型融合 - 权重 (1:2:2:2:3)"
   ]
  },
  {
   "cell_type": "code",
   "execution_count": 7,
   "metadata": {},
   "outputs": [
    {
     "name": "stdout",
     "output_type": "stream",
     "text": [
      "348115 / 448444 = 0.776273\n"
     ]
    }
   ],
   "source": [
    "num = 0\n",
    "predictFile = 'predict/Weight.txt'\n",
    "y = []\n",
    "for i in range(len(y_true)):\n",
    "    pred = y1[i] + 2 * y2[i] + 2 * y3[i] + 2 * y4[i] + 3 * y5[i]\n",
    "    pred /= 10.0\n",
    "    if (y_true[i] == 0 and pred < 0.5) or (y_true[i] == 1 and pred >= 0.5):\n",
    "        num += 1\n",
    "        y.append(1)\n",
    "    else:\n",
    "        y.append(0)\n",
    "\n",
    "with open(predictFile, 'w') as f:\n",
    "    for i in range(len(ids)):\n",
    "        f.write('%d,%s\\n' % (ids[i], y[i]))\n",
    "\n",
    "score8 = num / len(y_true)\n",
    "print('%d / %d = %f' % (num, len(y_true), score8))"
   ]
  },
  {
   "cell_type": "code",
   "execution_count": 8,
   "metadata": {},
   "outputs": [
    {
     "data": {
      "image/png": "[encoded data removed]",
      "text/plain": [
       "<matplotlib.figure.Figure at 0x7fa1e4279c50>"
      ]
     },
     "metadata": {},
     "output_type": "display_data"
    }
   ],
   "source": [
    "%matplotlib inline\n",
    "import matplotlib.pyplot as plt\n",
    "\n",
    "name_list = ['FastText', 'CNN1', 'CNN2', 'BiLSTM', 'Attention', 'Vote', 'Average', 'Weight']\n",
    "score_list = [score1, score2, score3, score4, score5, score6, score7, score8]\n",
    "\n",
    "# 设置柱状图\n",
    "index = np.arange(len(name_list))\n",
    "plt.bar(index, score_list, color='r')\n",
    "for a, b in zip(index, score_list):\n",
    "    plt.text(a, b, '%.3f' % b, ha='center', va= 'bottom',fontsize=12)\n",
    "\n",
    "plt.xlabel('Model')\n",
    "plt.ylabel('Score')\n",
    "plt.xticks(index, name_list)\n",
    "plt.ylim(0.5, 0.9)\n",
    "plt.tight_layout()\n",
    "plt.savefig('img/Score2.png')\n",
    "plt.show()"
   ]
  },
  {
   "cell_type": "markdown",
   "metadata": {},
   "source": [
    "### MRR MAP TOP-1\n",
    "![alt text](img/mrr.jpg \"title\")\n",
    "![alt text](img/map.jpg \"title\")"
   ]
  },
  {
   "cell_type": "code",
   "execution_count": 9,
   "metadata": {},
   "outputs": [],
   "source": [
    "import json\n",
    "\n",
    "with open('data/WebQA.json', 'r') as f:\n",
    "    data = json.load(f)\n",
    "\n",
    "qIndex2aIndex = {} # 问题到答案的映射\n",
    "aIndex2qIndex = {} # 答案到问题的映射\n",
    "for qa in data:\n",
    "    item_id = qa['item_id']\n",
    "    qIndex2aIndex[item_id] = []\n",
    "    for passage in qa['passages']:\n",
    "        passage_id = passage['passage_id']\n",
    "        qIndex2aIndex[item_id].append(passage_id)\n",
    "        aIndex2qIndex[passage_id] = item_id"
   ]
  },
  {
   "cell_type": "code",
   "execution_count": 10,
   "metadata": {},
   "outputs": [],
   "source": [
    "class Evaluator(object):\n",
    "    qIndex2aIndex2aLabel = {} # 问题到答案到标签的映射\n",
    "    qIndex2aIndex2aScore = {} # 问题到答案到分数的映射\n",
    "    MRRList = []\n",
    "    MAPList = []\n",
    "    TOP_1List = []\n",
    "\n",
    "    def __init__(self, qaPairFile, scoreFile):\n",
    "        self.loadData(qaPairFile, scoreFile)\n",
    "\n",
    "    def loadData(self, qaPairFile, scoreFile):\n",
    "        qaPairLines = open(qaPairFile, 'r').readlines()\n",
    "        scoreLines = open(scoreFile, 'r').readlines()\n",
    "        assert len(qaPairLines) == len(scoreLines)\n",
    "        \n",
    "        for idx in range(len(qaPairLines)):\n",
    "            qaLine = qaPairLines[idx].strip()\n",
    "            scLine = scoreLines[idx].strip()\n",
    "            qaLineArr = qaLine.split(',')\n",
    "            scLineArr = scLine.split(',')\n",
    "            \n",
    "            assert qaLineArr[0] == scLineArr[0]\n",
    "            assert len(qaLineArr) == 2\n",
    "            assert len(scLineArr) == 2\n",
    "            \n",
    "            label = int(qaLineArr[1])\n",
    "            score = float(scLineArr[1])\n",
    "            aIndex = int(qaLineArr[0])\n",
    "            qIndex = aIndex2qIndex[aIndex]\n",
    "            \n",
    "            if not qIndex in self.qIndex2aIndex2aScore:\n",
    "                self.qIndex2aIndex2aScore[qIndex] = {}\n",
    "                self.qIndex2aIndex2aLabel[qIndex] = {}\n",
    "            self.qIndex2aIndex2aLabel[qIndex][aIndex] = label\n",
    "            self.qIndex2aIndex2aScore[qIndex][aIndex] = score\n",
    "\n",
    "    def calculate(self):\n",
    "        # 对同一个问题分析答案\n",
    "        for qIndex, index2label in self.qIndex2aIndex2aLabel.items():\n",
    "            index2score = self.qIndex2aIndex2aScore[qIndex]\n",
    "            rankedList = sorted(index2score.items(), key=lambda b: b[1], reverse=True) # 按照降序排序\n",
    "            \n",
    "            rankIndex = 0\n",
    "            collectNum = 0\n",
    "            collectList = []\n",
    "            top = 0\n",
    "            for info in rankedList:\n",
    "                aIndex = info[0]\n",
    "                label = index2label[aIndex]\n",
    "                rankIndex += 1\n",
    "                if label == 1:\n",
    "                    if rankIndex == 1: top = 1 # TOP-1\n",
    "                    collectNum += 1\n",
    "                    p = float(collectNum) / rankIndex\n",
    "                    collectList.append(p)\n",
    "            self.MRRList.append(collectList[0])\n",
    "            self.MAPList.append(float(sum(collectList)) / len(collectList))\n",
    "            self.TOP_1List.append(top)\n",
    "\n",
    "    def MRR(self):\n",
    "        return float(sum(self.MRRList)) / len(self.MRRList)\n",
    "\n",
    "    def MAP(self):\n",
    "        return float(sum(self.MAPList)) / len(self.MAPList)\n",
    "\n",
    "    def TOP_1(self):\n",
    "        return float(sum(self.TOP_1List)) / len(self.TOP_1List)\n",
    "\n",
    "\n",
    "def evaluate(qaPairFile, scoreFile):\n",
    "    testor = Evaluator(qaPairFile, scoreFile)\n",
    "    testor.calculate()\n",
    "    \n",
    "    print(\"MRR:%f \\t MAP:%f \\t TOP_1:%f\\n\" % (testor.MRR(), testor.MAP(), testor.TOP_1()))\n",
    "    return testor.MRR(), testor.MAP(), testor.TOP_1()"
   ]
  },
  {
   "cell_type": "code",
   "execution_count": 11,
   "metadata": {},
   "outputs": [
    {
     "name": "stdout",
     "output_type": "stream",
     "text": [
      "MRR:0.770567 \t MAP:0.656222 \t TOP_1:0.637738\n",
      "\n",
      "MRR:0.797878 \t MAP:0.700833 \t TOP_1:0.682333\n",
      "\n",
      "MRR:0.794679 \t MAP:0.695119 \t TOP_1:0.674599\n",
      "\n",
      "MRR:0.795807 \t MAP:0.694302 \t TOP_1:0.675044\n",
      "\n",
      "MRR:0.797594 \t MAP:0.693453 \t TOP_1:0.677831\n",
      "\n"
     ]
    }
   ],
   "source": [
    "qaPairFile = 'data/WebQA_label.txt'\n",
    "scoreFile1 = 'predict/FastText.txt'\n",
    "scoreFile2 = 'predict/CNN1.txt'\n",
    "scoreFile3 = 'predict/CNN2.txt'\n",
    "scoreFile4 = 'predict/BiLSTM.txt'\n",
    "scoreFile5 = 'predict/Attention.txt'\n",
    "\n",
    "mrr1, map1, top1 = evaluate(qaPairFile, scoreFile1)\n",
    "mrr2, map2, top2 = evaluate(qaPairFile, scoreFile2)\n",
    "mrr3, map3, top3 = evaluate(qaPairFile, scoreFile3)\n",
    "mrr4, map4, top4 = evaluate(qaPairFile, scoreFile4)\n",
    "mrr5, map5, top5 = evaluate(qaPairFile, scoreFile5)"
   ]
  },
  {
   "cell_type": "code",
   "execution_count": 12,
   "metadata": {},
   "outputs": [
    {
     "data": {
      "image/png": "[encoded data removed]",
      "text/plain": [
       "<matplotlib.figure.Figure at 0x7fa1eb427e48>"
      ]
     },
     "metadata": {},
     "output_type": "display_data"
    }
   ],
   "source": [
    "%matplotlib inline\n",
    "import matplotlib.pyplot as plt\n",
    "import numpy as np\n",
    "\n",
    "name_list = ['FastText', 'CNN1', 'CNN2', 'BiLSTM', 'Attention']\n",
    "mrr_list = [mrr1, mrr2, mrr3, mrr4, mrr5]\n",
    "map_list = [map1, map2, map3, map4, map5]\n",
    "top_list = [top1, top2, top3, top4, top5]\n",
    "\n",
    "# 设置柱状图\n",
    "bar_width = 0.25\n",
    "index = np.arange(len(name_list))\n",
    "bar1 = plt.bar(index + bar_width * 0, mrr_list, bar_width, color='r', label='MRR')\n",
    "bar2 = plt.bar(index + bar_width * 1, map_list, bar_width, color='g', label='MAP')\n",
    "bar3 = plt.bar(index + bar_width * 2, top_list, bar_width, color='b', label='TOP')\n",
    "\n",
    "plt.xlabel('Model')\n",
    "plt.ylabel('Score')\n",
    "plt.xticks(index + bar_width, name_list)\n",
    "plt.ylim(0.5, 0.9)\n",
    "plt.legend()\n",
    "plt.tight_layout()\n",
    "plt.savefig('img/Score3.png')\n",
    "plt.show()"
   ]
  },
  {
   "cell_type": "markdown",
   "metadata": {},
   "source": [
    "### 散点分布"
   ]
  },
  {
   "cell_type": "code",
   "execution_count": 13,
   "metadata": {},
   "outputs": [
    {
     "data": {
      "image/png": "[encoded data removed]",
      "text/plain": [
       "<matplotlib.figure.Figure at 0x7fa1e421a048>"
      ]
     },
     "metadata": {},
     "output_type": "display_data"
    }
   ],
   "source": [
    "%matplotlib inline\n",
    "import matplotlib.pyplot as plt\n",
    "import numpy as np\n",
    "\n",
    "X1 = y1\n",
    "X2 = y2\n",
    "X3 = y3\n",
    "X4 = y4\n",
    "X5 = y5\n",
    "Y = [0] * len(y_true)\n",
    "T = y_true\n",
    "\n",
    "plt.figure(figsize=(20, 10))\n",
    "\n",
    "plt.subplot(2, 3, 1)\n",
    "plt.title('FastText')\n",
    "plt.scatter(X1, Y, s=50, c=T, alpha=.5)\n",
    "plt.subplot(2, 3, 2)\n",
    "plt.title('CNN1')\n",
    "plt.scatter(X2, Y, s=50, c=T, alpha=.5)\n",
    "plt.subplot(2, 3, 3)\n",
    "plt.title('CNN2')\n",
    "plt.scatter(X3, Y, s=50, c=T, alpha=.5)\n",
    "plt.subplot(2, 3, 4)\n",
    "plt.title('BiLSTM')\n",
    "plt.scatter(X4, Y, s=50, c=T, alpha=.5)\n",
    "plt.subplot(2, 3, 5)\n",
    "plt.title('Attention')\n",
    "plt.scatter(X5, Y, s=50, c=T, alpha=.5)\n",
    "\n",
    "plt.savefig('img/Score4.png')\n",
    "plt.show()"
   ]
  }
 ],
 "metadata": {
  "kernelspec": {
   "display_name": "Python 3",
   "language": "python",
   "name": "python3"
  },
  "language_info": {
   "codemirror_mode": {
    "name": "ipython",
    "version": 3
   },
   "file_extension": ".py",
   "mimetype": "text/x-python",
   "name": "python",
   "nbconvert_exporter": "python",
   "pygments_lexer": "ipython3",
   "version": "3.6.4"
  }
 },
 "nbformat": 4,
 "nbformat_minor": 2
}
