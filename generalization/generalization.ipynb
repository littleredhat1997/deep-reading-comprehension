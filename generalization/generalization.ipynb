{
 "cells": [
  {
   "cell_type": "code",
   "execution_count": 1,
   "metadata": {},
   "outputs": [
    {
     "name": "stderr",
     "output_type": "stream",
     "text": [
      "/home/ubuntu/anaconda3/lib/python3.6/site-packages/h5py/__init__.py:36: FutureWarning: Conversion of the second argument of issubdtype from `float` to `np.floating` is deprecated. In future, it will be treated as `np.float64 == np.dtype(float).type`.\n",
      "  from ._conv import register_converters as _register_converters\n",
      "Using TensorFlow backend.\n"
     ]
    }
   ],
   "source": [
    "import numpy as np\n",
    "import pickle\n",
    "import json\n",
    "import jieba\n",
    "from keras.preprocessing.text import Tokenizer\n",
    "from keras.preprocessing.sequence import pad_sequences"
   ]
  },
  {
   "cell_type": "code",
   "execution_count": 2,
   "metadata": {},
   "outputs": [],
   "source": [
    "MAX_SEQUENCE_LENGTH = 200 # 问题/答案 上限200个词\n",
    "MAX_NB_WORDS = 20000 # 字典 上限20000个词\n",
    "EMBEDDING_DIM = 100 # 100d 词向量"
   ]
  },
  {
   "cell_type": "code",
   "execution_count": 3,
   "metadata": {},
   "outputs": [],
   "source": [
    "# load tokenizer\n",
    "token_path = '../main/model/tokenizer.pkl'\n",
    "tokenizer = pickle.load(open(token_path, 'rb'))\n",
    "\n",
    "word_index = tokenizer.word_index"
   ]
  },
  {
   "cell_type": "code",
   "execution_count": 4,
   "metadata": {},
   "outputs": [
    {
     "name": "stdout",
     "output_type": "stream",
     "text": [
      "Found 782241 word vectors.\n"
     ]
    }
   ],
   "source": [
    "embeddings_index = {}\n",
    "with open('../word2vec/wiki.vector') as f:\n",
    "    for line in f:\n",
    "        values = line.split()\n",
    "        word = values[0]\n",
    "        coefs = np.asarray(values[1:], dtype='float32')\n",
    "        embeddings_index[word] = coefs\n",
    "\n",
    "print('Found %s word vectors.' % len(embeddings_index))"
   ]
  },
  {
   "cell_type": "code",
   "execution_count": 5,
   "metadata": {},
   "outputs": [],
   "source": [
    "embedding_matrix = np.zeros((len(word_index) + 1, EMBEDDING_DIM))\n",
    "for word, i in word_index.items():\n",
    "    embedding_vector = embeddings_index.get(word)\n",
    "    if embedding_vector is not None:\n",
    "        # words not found in embedding index will be all-zeros.\n",
    "        embedding_matrix[i] = embedding_vector"
   ]
  },
  {
   "cell_type": "code",
   "execution_count": 6,
   "metadata": {},
   "outputs": [
    {
     "name": "stderr",
     "output_type": "stream",
     "text": [
      "Building prefix dict from the default dictionary ...\n",
      "Loading model from cache /tmp/jieba.cache\n",
      "Loading model cost 0.707 seconds.\n",
      "Prefix dict has been built succesfully.\n"
     ]
    }
   ],
   "source": [
    "# load test data\n",
    "test_path = '../newdata/WebQA.json'\n",
    "with open(test_path, 'r') as f:\n",
    "    test = json.load(f)\n",
    "\n",
    "questions = []\n",
    "answers = []\n",
    "ids = []\n",
    "for item in test:\n",
    "    q = ' '.join(jieba.cut(item['question']))\n",
    "    for passage in item['passages']:\n",
    "        a = ' '.join(jieba.cut(passage['content']))\n",
    "        questions.append(q)\n",
    "        answers.append(a)\n",
    "        ids.append(passage['passage_id'])"
   ]
  },
  {
   "cell_type": "code",
   "execution_count": 7,
   "metadata": {},
   "outputs": [
    {
     "name": "stdout",
     "output_type": "stream",
     "text": [
      "Shape of data tensor: (448444, 200)\n",
      "Shape of data tensor: (448444, 200)\n"
     ]
    }
   ],
   "source": [
    "sequences_q = tokenizer.texts_to_sequences(questions)\n",
    "sequences_a = tokenizer.texts_to_sequences(answers)\n",
    "\n",
    "test_q = pad_sequences(sequences_q, maxlen=MAX_SEQUENCE_LENGTH)\n",
    "test_a = pad_sequences(sequences_a, maxlen=MAX_SEQUENCE_LENGTH)\n",
    "\n",
    "print('Shape of data tensor:', test_q.shape)\n",
    "print('Shape of data tensor:', test_a.shape)"
   ]
  },
  {
   "cell_type": "code",
   "execution_count": 8,
   "metadata": {},
   "outputs": [],
   "source": [
    "from keras.models import Sequential\n",
    "from keras.layers import BatchNormalization, Dense, Dropout, Merge, LSTM, Reshape, Flatten, Convolution1D, MaxPooling1D\n",
    "from keras.layers.embeddings import Embedding\n",
    "from keras.layers.wrappers import Bidirectional\n",
    "\n",
    "QA_EMBED_SIZE = 64\n",
    "DROPOUT_RATE = 0.3\n",
    "\n",
    "def get_lstm():\n",
    "    q = Sequential()\n",
    "    q.add(Embedding(len(word_index) + 1, EMBEDDING_DIM, input_length=MAX_SEQUENCE_LENGTH))\n",
    "    q.add(LSTM(QA_EMBED_SIZE, return_sequences=False, dropout=DROPOUT_RATE, recurrent_dropout=DROPOUT_RATE))\n",
    "\n",
    "    a = Sequential()\n",
    "    a.add(Embedding(len(word_index) + 1, EMBEDDING_DIM, input_length=MAX_SEQUENCE_LENGTH))\n",
    "    a.add(LSTM(QA_EMBED_SIZE, return_sequences=False, dropout=DROPOUT_RATE, recurrent_dropout=DROPOUT_RATE))\n",
    "\n",
    "    model = Sequential()\n",
    "    model.add(Merge([q, a], mode=\"concat\"))\n",
    "    model.add(BatchNormalization())\n",
    "    model.add(Dropout(DROPOUT_RATE))\n",
    "    model.add(Dense(64, activation='relu'))\n",
    "    model.add(BatchNormalization())\n",
    "    model.add(Dropout(DROPOUT_RATE))\n",
    "    model.add(Dense(1, activation=\"sigmoid\"))\n",
    "    return model\n",
    "\n",
    "def get_blstm():\n",
    "    q = Sequential()\n",
    "    q.add(Embedding(len(word_index) + 1, EMBEDDING_DIM, input_length=MAX_SEQUENCE_LENGTH))\n",
    "    q.add(Bidirectional(LSTM(QA_EMBED_SIZE, return_sequences=False, dropout=DROPOUT_RATE, recurrent_dropout=DROPOUT_RATE), merge_mode=\"sum\"))\n",
    "\n",
    "    a = Sequential()\n",
    "    a.add(Embedding(len(word_index) + 1, EMBEDDING_DIM, input_length=MAX_SEQUENCE_LENGTH))\n",
    "    a.add(Bidirectional(LSTM(QA_EMBED_SIZE, return_sequences=False, dropout=DROPOUT_RATE, recurrent_dropout=DROPOUT_RATE), merge_mode=\"sum\"))\n",
    "\n",
    "    model = Sequential()\n",
    "    model.add(Merge([q, a], mode=\"concat\"))\n",
    "    model.add(BatchNormalization())\n",
    "    model.add(Dropout(DROPOUT_RATE))\n",
    "    model.add(Dense(64, activation='relu'))\n",
    "    model.add(BatchNormalization())\n",
    "    model.add(Dropout(DROPOUT_RATE))\n",
    "    model.add(Dense(1, activation=\"sigmoid\"))\n",
    "    return model\n",
    "\n",
    "def get_blstm_word2vec():\n",
    "    q = Sequential()\n",
    "    q.add(Embedding(len(word_index) + 1,\n",
    "                                EMBEDDING_DIM,\n",
    "                                weights=[embedding_matrix],\n",
    "                                input_length=MAX_SEQUENCE_LENGTH,\n",
    "                                trainable=False))\n",
    "    q.add(Bidirectional(LSTM(QA_EMBED_SIZE, return_sequences=False, dropout=DROPOUT_RATE, recurrent_dropout=DROPOUT_RATE), merge_mode=\"sum\"))\n",
    "\n",
    "    a = Sequential()\n",
    "    a.add(Embedding(len(word_index) + 1,\n",
    "                                EMBEDDING_DIM,\n",
    "                                weights=[embedding_matrix],\n",
    "                                input_length=MAX_SEQUENCE_LENGTH,\n",
    "                                trainable=False))\n",
    "    a.add(Bidirectional(LSTM(QA_EMBED_SIZE, return_sequences=False, dropout=DROPOUT_RATE, recurrent_dropout=DROPOUT_RATE), merge_mode=\"sum\"))\n",
    "\n",
    "    model = Sequential()\n",
    "    model.add(Merge([q, a], mode=\"concat\"))\n",
    "    model.add(BatchNormalization())\n",
    "    model.add(Dropout(DROPOUT_RATE))\n",
    "    model.add(Dense(64, activation='relu'))\n",
    "    model.add(BatchNormalization())\n",
    "    model.add(Dropout(DROPOUT_RATE))\n",
    "    model.add(Dense(1, activation=\"sigmoid\"))\n",
    "    return model\n",
    "\n",
    "def get_blstm_word2vec_cnn():\n",
    "    q = Sequential()\n",
    "    q.add(Embedding(len(word_index) + 1,\n",
    "                                EMBEDDING_DIM,\n",
    "                                weights=[embedding_matrix],\n",
    "                                input_length=MAX_SEQUENCE_LENGTH,\n",
    "                                trainable=False))\n",
    "    q.add(Bidirectional(LSTM(QA_EMBED_SIZE, return_sequences=True, dropout=DROPOUT_RATE, recurrent_dropout=DROPOUT_RATE), merge_mode=\"sum\"))\n",
    "    q.add(Convolution1D(filters=128, kernel_size=3, padding='valid', activation='relu'))\n",
    "    q.add(MaxPooling1D(4))\n",
    "    q.add(Dropout(0.2))\n",
    "    q.add(Flatten())\n",
    "    q.add(Dense(300))\n",
    "\n",
    "    a = Sequential()\n",
    "    a.add(Embedding(len(word_index) + 1,\n",
    "                                EMBEDDING_DIM,\n",
    "                                weights=[embedding_matrix],\n",
    "                                input_length=MAX_SEQUENCE_LENGTH,\n",
    "                                trainable=False))\n",
    "    a.add(Bidirectional(LSTM(QA_EMBED_SIZE, return_sequences=True, dropout=DROPOUT_RATE, recurrent_dropout=DROPOUT_RATE), merge_mode=\"sum\"))\n",
    "    a.add(Convolution1D(filters=128, kernel_size=3, padding='valid', activation='relu'))\n",
    "    a.add(MaxPooling1D(4))\n",
    "    a.add(Dropout(0.2))\n",
    "    a.add(Flatten())\n",
    "    a.add(Dense(300))\n",
    "\n",
    "    model = Sequential()\n",
    "    model.add(Merge([q, a], mode=\"concat\"))\n",
    "    model.add(BatchNormalization())\n",
    "    model.add(Dropout(DROPOUT_RATE))\n",
    "    model.add(Dense(64, activation='relu'))\n",
    "    model.add(BatchNormalization())\n",
    "    model.add(Dropout(DROPOUT_RATE))\n",
    "    model.add(Dense(1, activation=\"sigmoid\"))\n",
    "    return model\n",
    "\n",
    "def get_blstm_word2vec_att():\n",
    "    q = Sequential()\n",
    "    q.add(Embedding(len(word_index) + 1,\n",
    "                                EMBEDDING_DIM,\n",
    "                                weights=[embedding_matrix],\n",
    "                                input_length=MAX_SEQUENCE_LENGTH,\n",
    "                                trainable=False))\n",
    "    q.add(Bidirectional(LSTM(QA_EMBED_SIZE, return_sequences=True, dropout=DROPOUT_RATE, recurrent_dropout=DROPOUT_RATE), merge_mode=\"sum\"))\n",
    "\n",
    "    a = Sequential()\n",
    "    a.add(Embedding(len(word_index) + 1,\n",
    "                                EMBEDDING_DIM,\n",
    "                                weights=[embedding_matrix],\n",
    "                                input_length=MAX_SEQUENCE_LENGTH,\n",
    "                                trainable=False))\n",
    "    a.add(Bidirectional(LSTM(QA_EMBED_SIZE, return_sequences=True, dropout=DROPOUT_RATE, recurrent_dropout=DROPOUT_RATE), merge_mode=\"sum\"))\n",
    "\n",
    "    # attention model\n",
    "    attention = Sequential()\n",
    "    attention.add(Merge([q, a], mode=\"dot\", dot_axes=[1, 1]))\n",
    "    attention.add(Flatten())\n",
    "    attention.add(Dense((MAX_SEQUENCE_LENGTH * QA_EMBED_SIZE)))\n",
    "    attention.add(Reshape((MAX_SEQUENCE_LENGTH, QA_EMBED_SIZE)))\n",
    "\n",
    "    model = Sequential()\n",
    "    model.add(Merge([q, attention], mode=\"concat\"))\n",
    "    model.add(Flatten()) # flatten\n",
    "    model.add(BatchNormalization())\n",
    "    model.add(Dropout(DROPOUT_RATE))\n",
    "    model.add(Dense(64, activation='relu'))\n",
    "    model.add(BatchNormalization())\n",
    "    model.add(Dropout(DROPOUT_RATE))\n",
    "    model.add(Dense(1, activation=\"sigmoid\"))\n",
    "    return model"
   ]
  },
  {
   "cell_type": "code",
   "execution_count": 9,
   "metadata": {},
   "outputs": [
    {
     "name": "stderr",
     "output_type": "stream",
     "text": [
      "/home/ubuntu/anaconda3/lib/python3.6/site-packages/ipykernel_launcher.py:19: UserWarning: The `Merge` layer is deprecated and will be removed after 08/2017. Use instead layers from `keras.layers.merge`, e.g. `add`, `concatenate`, etc.\n"
     ]
    },
    {
     "name": "stdout",
     "output_type": "stream",
     "text": [
      "448444/448444 [==============================] - 1269s 3ms/step\n"
     ]
    }
   ],
   "source": [
    "# load model\n",
    "model_lstm = get_lstm()\n",
    "model_lstm.load_weights('../main/model/model-lstm.h5')\n",
    "model_lstm.compile(loss='binary_crossentropy',\n",
    "                  optimizer='adam',\n",
    "                  metrics=['accuracy'])\n",
    "\n",
    "predicts = model_lstm.predict([test_q, test_a], batch_size=64, verbose=1)\n",
    "\n",
    "with open('predict/predict-lstm.txt', 'w') as f:\n",
    "    for i in range(len(ids)):\n",
    "        f.write('%d,%s\\n' % (ids[i], predicts[i][0]))"
   ]
  },
  {
   "cell_type": "code",
   "execution_count": 10,
   "metadata": {},
   "outputs": [
    {
     "name": "stderr",
     "output_type": "stream",
     "text": [
      "/home/ubuntu/anaconda3/lib/python3.6/site-packages/ipykernel_launcher.py:65: UserWarning: The `Merge` layer is deprecated and will be removed after 08/2017. Use instead layers from `keras.layers.merge`, e.g. `add`, `concatenate`, etc.\n"
     ]
    },
    {
     "name": "stdout",
     "output_type": "stream",
     "text": [
      "448444/448444 [==============================] - 2210s 5ms/step\n"
     ]
    }
   ],
   "source": [
    "# load model\n",
    "model_blstm = get_blstm_word2vec()\n",
    "model_blstm.load_weights('../main/model/model-blstm.h5')\n",
    "model_blstm.compile(loss='binary_crossentropy',\n",
    "                  optimizer='adam',\n",
    "                  metrics=['accuracy'])\n",
    "\n",
    "predicts = model_blstm.predict([test_q, test_a], batch_size=64, verbose=1)\n",
    "\n",
    "with open('predict/predict-blstm.txt', 'w') as f:\n",
    "    for i in range(len(ids)):\n",
    "        f.write('%d,%s\\n' % (ids[i], predicts[i][0]))"
   ]
  },
  {
   "cell_type": "code",
   "execution_count": 11,
   "metadata": {},
   "outputs": [
    {
     "name": "stderr",
     "output_type": "stream",
     "text": [
      "/home/ubuntu/anaconda3/lib/python3.6/site-packages/ipykernel_launcher.py:65: UserWarning: The `Merge` layer is deprecated and will be removed after 08/2017. Use instead layers from `keras.layers.merge`, e.g. `add`, `concatenate`, etc.\n"
     ]
    },
    {
     "name": "stdout",
     "output_type": "stream",
     "text": [
      "448444/448444 [==============================] - 2282s 5ms/step\n"
     ]
    }
   ],
   "source": [
    "# load model\n",
    "model_blstm_word2vec = get_blstm_word2vec()\n",
    "model_blstm_word2vec.load_weights('../main/model/model-blstm-word2vec.h5')\n",
    "model_blstm_word2vec.compile(loss='binary_crossentropy',\n",
    "                  optimizer='adam',\n",
    "                  metrics=['accuracy'])\n",
    "\n",
    "predicts = model_blstm_word2vec.predict([test_q, test_a], batch_size=64, verbose=1)\n",
    "\n",
    "with open('predict/predict-blstm-word2vec.txt', 'w') as f:\n",
    "    for i in range(len(ids)):\n",
    "        f.write('%d,%s\\n' % (ids[i], predicts[i][0]))"
   ]
  },
  {
   "cell_type": "code",
   "execution_count": 12,
   "metadata": {},
   "outputs": [
    {
     "name": "stderr",
     "output_type": "stream",
     "text": [
      "/home/ubuntu/anaconda3/lib/python3.6/site-packages/ipykernel_launcher.py:102: UserWarning: The `Merge` layer is deprecated and will be removed after 08/2017. Use instead layers from `keras.layers.merge`, e.g. `add`, `concatenate`, etc.\n"
     ]
    },
    {
     "name": "stdout",
     "output_type": "stream",
     "text": [
      "448444/448444 [==============================] - 2204s 5ms/step\n"
     ]
    }
   ],
   "source": [
    "# load model\n",
    "model_blstm_word2vec_cnn = get_blstm_word2vec_cnn()\n",
    "model_blstm_word2vec_cnn.load_weights('../main/model/model-blstm-word2vec-cnn.h5')\n",
    "model_blstm_word2vec_cnn.compile(loss='binary_crossentropy',\n",
    "                  optimizer='adam',\n",
    "                  metrics=['accuracy'])\n",
    "\n",
    "predicts = model_blstm_word2vec_cnn.predict([test_q, test_a], batch_size=64, verbose=1)\n",
    "\n",
    "with open('predict/predict-blstm-word2vec-cnn.txt', 'w') as f:\n",
    "    for i in range(len(ids)):\n",
    "        f.write('%d,%s\\n' % (ids[i], predicts[i][0]))"
   ]
  },
  {
   "cell_type": "code",
   "execution_count": 13,
   "metadata": {},
   "outputs": [
    {
     "name": "stderr",
     "output_type": "stream",
     "text": [
      "/home/ubuntu/anaconda3/lib/python3.6/site-packages/ipykernel_launcher.py:130: UserWarning: The `Merge` layer is deprecated and will be removed after 08/2017. Use instead layers from `keras.layers.merge`, e.g. `add`, `concatenate`, etc.\n",
      "/home/ubuntu/anaconda3/lib/python3.6/site-packages/ipykernel_launcher.py:136: UserWarning: The `Merge` layer is deprecated and will be removed after 08/2017. Use instead layers from `keras.layers.merge`, e.g. `add`, `concatenate`, etc.\n"
     ]
    },
    {
     "name": "stdout",
     "output_type": "stream",
     "text": [
      "448444/448444 [==============================] - 2081s 5ms/step\n"
     ]
    }
   ],
   "source": [
    "# load model\n",
    "model_blstm_word2vec_att = get_blstm_word2vec_att()\n",
    "model_blstm_word2vec_att.load_weights('../main/model/model-blstm-word2vec-att.h5')\n",
    "model_blstm_word2vec_att.compile(loss='binary_crossentropy',\n",
    "                  optimizer='adam',\n",
    "                  metrics=['accuracy'])\n",
    "\n",
    "predicts = model_blstm_word2vec_att.predict([test_q, test_a], batch_size=64, verbose=1)\n",
    "\n",
    "with open('predict/predict-blstm-word2vec-att.txt', 'w') as f:\n",
    "    for i in range(len(ids)):\n",
    "        f.write('%d,%s\\n' % (ids[i], predicts[i][0]))"
   ]
  }
 ],
 "metadata": {
  "kernelspec": {
   "display_name": "Python 3",
   "language": "python",
   "name": "python3"
  },
  "language_info": {
   "codemirror_mode": {
    "name": "ipython",
    "version": 3
   },
   "file_extension": ".py",
   "mimetype": "text/x-python",
   "name": "python",
   "nbconvert_exporter": "python",
   "pygments_lexer": "ipython3",
   "version": "3.6.4"
  }
 },
 "nbformat": 4,
 "nbformat_minor": 2
}
