{
 "cells": [
  {
   "cell_type": "code",
   "execution_count": 1,
   "metadata": {},
   "outputs": [],
   "source": [
    "MAX_SEQUENCE_LENGTH = 200 # 问题/答案 上限200个词\n",
    "EMBEDDING_DIM = 100 # 100d 词向量"
   ]
  },
  {
   "cell_type": "markdown",
   "metadata": {},
   "source": [
    "### 数据预处理"
   ]
  },
  {
   "cell_type": "code",
   "execution_count": 2,
   "metadata": {},
   "outputs": [],
   "source": [
    "import json\n",
    "import jieba"
   ]
  },
  {
   "cell_type": "code",
   "execution_count": 3,
   "metadata": {},
   "outputs": [
    {
     "name": "stderr",
     "output_type": "stream",
     "text": [
      "Building prefix dict from the default dictionary ...\n",
      "Loading model from cache /tmp/jieba.cache\n",
      "Loading model cost 0.808 seconds.\n",
      "Prefix dict has been built succesfully.\n"
     ]
    }
   ],
   "source": [
    "# load data\n",
    "data_path = 'WebQA.json'\n",
    "with open(data_path, 'r') as f:\n",
    "    data = json.load(f)\n",
    "\n",
    "data_q = []\n",
    "data_a = []\n",
    "data_y = []\n",
    "data_id = []\n",
    "for item in data:\n",
    "    q = ' '.join(jieba.cut(item['question']))\n",
    "    for passage in item['passages']:\n",
    "        a = ' '.join(jieba.cut(passage['content']))\n",
    "        data_q.append(q)\n",
    "        data_a.append(a)\n",
    "        data_y.append(passage['label'])\n",
    "        data_id.append(passage['passage_id'])"
   ]
  },
  {
   "cell_type": "code",
   "execution_count": 4,
   "metadata": {},
   "outputs": [
    {
     "name": "stderr",
     "output_type": "stream",
     "text": [
      "/home/ubuntu/anaconda3/lib/python3.6/site-packages/h5py/__init__.py:36: FutureWarning: Conversion of the second argument of issubdtype from `float` to `np.floating` is deprecated. In future, it will be treated as `np.float64 == np.dtype(float).type`.\n",
      "  from ._conv import register_converters as _register_converters\n",
      "Using TensorFlow backend.\n"
     ]
    },
    {
     "name": "stdout",
     "output_type": "stream",
     "text": [
      "Shape of data tensor: (448444, 200)\n",
      "Shape of data tensor: (448444, 200)\n"
     ]
    }
   ],
   "source": [
    "# https://keras-cn-docs.readthedocs.io/zh_CN/latest/blog/word_embedding/\n",
    "import pickle\n",
    "from keras.preprocessing.sequence import pad_sequences\n",
    "\n",
    "# Tokenizer\n",
    "token_path = '../../main/data/tokenizer.pkl'\n",
    "tokenizer = pickle.load(open(token_path, 'rb'))\n",
    "word_index = tokenizer.word_index\n",
    "\n",
    "# Sequences\n",
    "sequences_q = tokenizer.texts_to_sequences(data_q)\n",
    "sequences_a = tokenizer.texts_to_sequences(data_a)\n",
    "\n",
    "# Padding\n",
    "q = pad_sequences(sequences_q, maxlen=MAX_SEQUENCE_LENGTH)\n",
    "a = pad_sequences(sequences_a, maxlen=MAX_SEQUENCE_LENGTH)\n",
    "\n",
    "print('Shape of data tensor:', q.shape)\n",
    "print('Shape of data tensor:', a.shape)"
   ]
  },
  {
   "cell_type": "markdown",
   "metadata": {},
   "source": [
    "### 保存"
   ]
  },
  {
   "cell_type": "code",
   "execution_count": 5,
   "metadata": {},
   "outputs": [],
   "source": [
    "import numpy as np\n",
    "np.save('data_q.npy', q)\n",
    "np.save('data_a.npy', a)\n",
    "np.save('data_y.npy', data_y)\n",
    "np.save('data_id.npy', data_id)"
   ]
  }
 ],
 "metadata": {
  "kernelspec": {
   "display_name": "Python 3",
   "language": "python",
   "name": "python3"
  },
  "language_info": {
   "codemirror_mode": {
    "name": "ipython",
    "version": 3
   },
   "file_extension": ".py",
   "mimetype": "text/x-python",
   "name": "python",
   "nbconvert_exporter": "python",
   "pygments_lexer": "ipython3",
   "version": "3.6.4"
  }
 },
 "nbformat": 4,
 "nbformat_minor": 2
}
